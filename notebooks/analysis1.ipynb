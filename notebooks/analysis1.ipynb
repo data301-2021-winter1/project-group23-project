{
 "cells": [
  {
   "cell_type": "markdown",
   "metadata": {
    "tags": []
   },
   "source": [
    "# Milestone #3: Brett Pfliger"
   ]
  },
  {
   "cell_type": "markdown",
   "metadata": {
    "tags": []
   },
   "source": [
    "## How did the Buffalo Sabers and Vancouver Canucks play before and after their Covid-19 outbreaks and is there any correlation?\n",
    "\n",
    "I am a huge hockey fan and am curious to see how the Buffalo Sabers and Vancouver Canucks played after their Covid-19 outbreaks. Both of these teams experianced the most time off due to their outbreaks compared to many other teams and I want to see if that resulted in them playing worse when coming back. "
   ]
  },
  {
   "cell_type": "code",
   "execution_count": 1,
   "metadata": {},
   "outputs": [
    {
     "data": {
      "text/html": [
       "<div>\n",
       "<style scoped>\n",
       "    .dataframe tbody tr th:only-of-type {\n",
       "        vertical-align: middle;\n",
       "    }\n",
       "\n",
       "    .dataframe tbody tr th {\n",
       "        vertical-align: top;\n",
       "    }\n",
       "\n",
       "    .dataframe thead th {\n",
       "        text-align: right;\n",
       "    }\n",
       "</style>\n",
       "<table border=\"1\" class=\"dataframe\">\n",
       "  <thead>\n",
       "    <tr style=\"text-align: right;\">\n",
       "      <th></th>\n",
       "      <th>Game</th>\n",
       "      <th>Team</th>\n",
       "      <th>Unnamed: 2</th>\n",
       "      <th>TOI</th>\n",
       "      <th>CF</th>\n",
       "      <th>CA</th>\n",
       "      <th>CF%</th>\n",
       "      <th>SCF</th>\n",
       "      <th>SCA</th>\n",
       "      <th>SCF%</th>\n",
       "      <th>SH%</th>\n",
       "      <th>SV%</th>\n",
       "      <th>PDO</th>\n",
       "    </tr>\n",
       "  </thead>\n",
       "  <tbody>\n",
       "    <tr>\n",
       "      <th>0</th>\n",
       "      <td>2021-01-13 - Blackhawks 1, Lightning 5</td>\n",
       "      <td>Chicago Blackhawks</td>\n",
       "      <td>Limited ReportFull Report</td>\n",
       "      <td>45.583333</td>\n",
       "      <td>33</td>\n",
       "      <td>34</td>\n",
       "      <td>49.25</td>\n",
       "      <td>19</td>\n",
       "      <td>24</td>\n",
       "      <td>44.19</td>\n",
       "      <td>0.00</td>\n",
       "      <td>86.36</td>\n",
       "      <td>0.864</td>\n",
       "    </tr>\n",
       "    <tr>\n",
       "      <th>1</th>\n",
       "      <td>2021-01-13 - Blackhawks 1, Lightning 5</td>\n",
       "      <td>Tampa Bay Lightning</td>\n",
       "      <td>Limited ReportFull Report</td>\n",
       "      <td>45.583333</td>\n",
       "      <td>34</td>\n",
       "      <td>33</td>\n",
       "      <td>50.75</td>\n",
       "      <td>24</td>\n",
       "      <td>19</td>\n",
       "      <td>55.81</td>\n",
       "      <td>13.64</td>\n",
       "      <td>100.00</td>\n",
       "      <td>1.136</td>\n",
       "    </tr>\n",
       "    <tr>\n",
       "      <th>2</th>\n",
       "      <td>2021-01-13 - Blues 4, Avalanche 1</td>\n",
       "      <td>Colorado Avalanche</td>\n",
       "      <td>Limited ReportFull Report</td>\n",
       "      <td>50.683333</td>\n",
       "      <td>44</td>\n",
       "      <td>43</td>\n",
       "      <td>50.57</td>\n",
       "      <td>11</td>\n",
       "      <td>22</td>\n",
       "      <td>33.33</td>\n",
       "      <td>0.00</td>\n",
       "      <td>85.19</td>\n",
       "      <td>0.852</td>\n",
       "    </tr>\n",
       "    <tr>\n",
       "      <th>3</th>\n",
       "      <td>2021-01-13 - Blues 4, Avalanche 1</td>\n",
       "      <td>St Louis Blues</td>\n",
       "      <td>Limited ReportFull Report</td>\n",
       "      <td>50.683333</td>\n",
       "      <td>43</td>\n",
       "      <td>44</td>\n",
       "      <td>49.43</td>\n",
       "      <td>22</td>\n",
       "      <td>11</td>\n",
       "      <td>66.67</td>\n",
       "      <td>14.81</td>\n",
       "      <td>100.00</td>\n",
       "      <td>1.148</td>\n",
       "    </tr>\n",
       "    <tr>\n",
       "      <th>4</th>\n",
       "      <td>2021-01-13 - Canadiens 4, Maple Leafs 5</td>\n",
       "      <td>Montreal Canadiens</td>\n",
       "      <td>Limited ReportFull Report</td>\n",
       "      <td>48.600000</td>\n",
       "      <td>47</td>\n",
       "      <td>52</td>\n",
       "      <td>47.47</td>\n",
       "      <td>25</td>\n",
       "      <td>30</td>\n",
       "      <td>45.45</td>\n",
       "      <td>9.09</td>\n",
       "      <td>90.00</td>\n",
       "      <td>0.991</td>\n",
       "    </tr>\n",
       "    <tr>\n",
       "      <th>...</th>\n",
       "      <td>...</td>\n",
       "      <td>...</td>\n",
       "      <td>...</td>\n",
       "      <td>...</td>\n",
       "      <td>...</td>\n",
       "      <td>...</td>\n",
       "      <td>...</td>\n",
       "      <td>...</td>\n",
       "      <td>...</td>\n",
       "      <td>...</td>\n",
       "      <td>...</td>\n",
       "      <td>...</td>\n",
       "      <td>...</td>\n",
       "    </tr>\n",
       "    <tr>\n",
       "      <th>1731</th>\n",
       "      <td>2021-05-16 - Flames 6, Canucks 5</td>\n",
       "      <td>Vancouver Canucks</td>\n",
       "      <td>Limited ReportFull Report</td>\n",
       "      <td>40.966667</td>\n",
       "      <td>32</td>\n",
       "      <td>50</td>\n",
       "      <td>39.02</td>\n",
       "      <td>17</td>\n",
       "      <td>19</td>\n",
       "      <td>47.22</td>\n",
       "      <td>8.70</td>\n",
       "      <td>78.26</td>\n",
       "      <td>0.870</td>\n",
       "    </tr>\n",
       "    <tr>\n",
       "      <th>1732</th>\n",
       "      <td>2021-05-18 - Flames 2, Canucks 4</td>\n",
       "      <td>Calgary Flames</td>\n",
       "      <td>Limited ReportFull Report</td>\n",
       "      <td>47.416667</td>\n",
       "      <td>43</td>\n",
       "      <td>37</td>\n",
       "      <td>53.75</td>\n",
       "      <td>25</td>\n",
       "      <td>17</td>\n",
       "      <td>59.52</td>\n",
       "      <td>3.33</td>\n",
       "      <td>86.36</td>\n",
       "      <td>0.897</td>\n",
       "    </tr>\n",
       "    <tr>\n",
       "      <th>1733</th>\n",
       "      <td>2021-05-18 - Flames 2, Canucks 4</td>\n",
       "      <td>Vancouver Canucks</td>\n",
       "      <td>Limited ReportFull Report</td>\n",
       "      <td>47.416667</td>\n",
       "      <td>37</td>\n",
       "      <td>43</td>\n",
       "      <td>46.25</td>\n",
       "      <td>17</td>\n",
       "      <td>25</td>\n",
       "      <td>40.48</td>\n",
       "      <td>13.64</td>\n",
       "      <td>96.67</td>\n",
       "      <td>1.103</td>\n",
       "    </tr>\n",
       "    <tr>\n",
       "      <th>1734</th>\n",
       "      <td>2021-05-19 - Canucks 2, Flames 6</td>\n",
       "      <td>Calgary Flames</td>\n",
       "      <td>Limited ReportFull Report</td>\n",
       "      <td>44.483333</td>\n",
       "      <td>43</td>\n",
       "      <td>35</td>\n",
       "      <td>55.13</td>\n",
       "      <td>30</td>\n",
       "      <td>18</td>\n",
       "      <td>62.50</td>\n",
       "      <td>24.00</td>\n",
       "      <td>94.44</td>\n",
       "      <td>1.184</td>\n",
       "    </tr>\n",
       "    <tr>\n",
       "      <th>1735</th>\n",
       "      <td>2021-05-19 - Canucks 2, Flames 6</td>\n",
       "      <td>Vancouver Canucks</td>\n",
       "      <td>Limited ReportFull Report</td>\n",
       "      <td>44.483333</td>\n",
       "      <td>35</td>\n",
       "      <td>43</td>\n",
       "      <td>44.87</td>\n",
       "      <td>18</td>\n",
       "      <td>30</td>\n",
       "      <td>37.50</td>\n",
       "      <td>5.56</td>\n",
       "      <td>76.00</td>\n",
       "      <td>0.816</td>\n",
       "    </tr>\n",
       "  </tbody>\n",
       "</table>\n",
       "<p>1736 rows × 13 columns</p>\n",
       "</div>"
      ],
      "text/plain": [
       "                                         Game                 Team  \\\n",
       "0      2021-01-13 - Blackhawks 1, Lightning 5   Chicago Blackhawks   \n",
       "1      2021-01-13 - Blackhawks 1, Lightning 5  Tampa Bay Lightning   \n",
       "2           2021-01-13 - Blues 4, Avalanche 1   Colorado Avalanche   \n",
       "3           2021-01-13 - Blues 4, Avalanche 1       St Louis Blues   \n",
       "4     2021-01-13 - Canadiens 4, Maple Leafs 5   Montreal Canadiens   \n",
       "...                                       ...                  ...   \n",
       "1731         2021-05-16 - Flames 6, Canucks 5    Vancouver Canucks   \n",
       "1732         2021-05-18 - Flames 2, Canucks 4       Calgary Flames   \n",
       "1733         2021-05-18 - Flames 2, Canucks 4    Vancouver Canucks   \n",
       "1734         2021-05-19 - Canucks 2, Flames 6       Calgary Flames   \n",
       "1735         2021-05-19 - Canucks 2, Flames 6    Vancouver Canucks   \n",
       "\n",
       "                     Unnamed: 2        TOI  CF  CA    CF%  SCF  SCA   SCF%  \\\n",
       "0     Limited ReportFull Report  45.583333  33  34  49.25   19   24  44.19   \n",
       "1     Limited ReportFull Report  45.583333  34  33  50.75   24   19  55.81   \n",
       "2     Limited ReportFull Report  50.683333  44  43  50.57   11   22  33.33   \n",
       "3     Limited ReportFull Report  50.683333  43  44  49.43   22   11  66.67   \n",
       "4     Limited ReportFull Report  48.600000  47  52  47.47   25   30  45.45   \n",
       "...                         ...        ...  ..  ..    ...  ...  ...    ...   \n",
       "1731  Limited ReportFull Report  40.966667  32  50  39.02   17   19  47.22   \n",
       "1732  Limited ReportFull Report  47.416667  43  37  53.75   25   17  59.52   \n",
       "1733  Limited ReportFull Report  47.416667  37  43  46.25   17   25  40.48   \n",
       "1734  Limited ReportFull Report  44.483333  43  35  55.13   30   18  62.50   \n",
       "1735  Limited ReportFull Report  44.483333  35  43  44.87   18   30  37.50   \n",
       "\n",
       "        SH%     SV%    PDO  \n",
       "0      0.00   86.36  0.864  \n",
       "1     13.64  100.00  1.136  \n",
       "2      0.00   85.19  0.852  \n",
       "3     14.81  100.00  1.148  \n",
       "4      9.09   90.00  0.991  \n",
       "...     ...     ...    ...  \n",
       "1731   8.70   78.26  0.870  \n",
       "1732   3.33   86.36  0.897  \n",
       "1733  13.64   96.67  1.103  \n",
       "1734  24.00   94.44  1.184  \n",
       "1735   5.56   76.00  0.816  \n",
       "\n",
       "[1736 rows x 13 columns]"
      ]
     },
     "execution_count": 1,
     "metadata": {},
     "output_type": "execute_result"
    }
   ],
   "source": [
    "import pandas as pd\n",
    "data = pd.read_csv(\"../data/raw/Games - Natural Stat TrickTeam Season Totals - Natural Stat Trick.csv\")\n",
    "data"
   ]
  },
  {
   "cell_type": "markdown",
   "metadata": {},
   "source": [
    "# Task 1"
   ]
  },
  {
   "cell_type": "markdown",
   "metadata": {},
   "source": [
    "## Conducting an EDA:"
   ]
  },
  {
   "cell_type": "code",
   "execution_count": 2,
   "metadata": {},
   "outputs": [
    {
     "name": "stdout",
     "output_type": "stream",
     "text": [
      "How many rows and columns are there: (1736, 13)\n",
      "Columns included in this dataset: Index(['Game', 'Team', 'Unnamed: 2', 'TOI', 'CF', 'CA', 'CF%', 'SCF', 'SCA',\n",
      "       'SCF%', 'SH%', 'SV%', 'PDO'],\n",
      "      dtype='object')\n"
     ]
    }
   ],
   "source": [
    "import numpy as np\n",
    "import matplotlib.pylab as plt\n",
    "import seaborn as sns\n",
    "\n",
    "print(\"How many rows and columns are there:\", data.shape)\n",
    "print(\"Columns included in this dataset:\", data.columns)"
   ]
  },
  {
   "cell_type": "code",
   "execution_count": 3,
   "metadata": {},
   "outputs": [
    {
     "data": {
      "text/html": [
       "<div>\n",
       "<style scoped>\n",
       "    .dataframe tbody tr th:only-of-type {\n",
       "        vertical-align: middle;\n",
       "    }\n",
       "\n",
       "    .dataframe tbody tr th {\n",
       "        vertical-align: top;\n",
       "    }\n",
       "\n",
       "    .dataframe thead th {\n",
       "        text-align: right;\n",
       "    }\n",
       "</style>\n",
       "<table border=\"1\" class=\"dataframe\">\n",
       "  <thead>\n",
       "    <tr style=\"text-align: right;\">\n",
       "      <th></th>\n",
       "      <th>count</th>\n",
       "      <th>mean</th>\n",
       "      <th>std</th>\n",
       "      <th>min</th>\n",
       "      <th>25%</th>\n",
       "      <th>50%</th>\n",
       "      <th>75%</th>\n",
       "      <th>max</th>\n",
       "    </tr>\n",
       "  </thead>\n",
       "  <tbody>\n",
       "    <tr>\n",
       "      <th>TOI</th>\n",
       "      <td>1736.0</td>\n",
       "      <td>48.557661</td>\n",
       "      <td>4.241102</td>\n",
       "      <td>31.783333</td>\n",
       "      <td>45.6625</td>\n",
       "      <td>48.933333</td>\n",
       "      <td>51.500</td>\n",
       "      <td>68.200</td>\n",
       "    </tr>\n",
       "    <tr>\n",
       "      <th>CF%</th>\n",
       "      <td>1736.0</td>\n",
       "      <td>50.000035</td>\n",
       "      <td>8.153142</td>\n",
       "      <td>25.270000</td>\n",
       "      <td>44.1600</td>\n",
       "      <td>50.000000</td>\n",
       "      <td>55.840</td>\n",
       "      <td>74.730</td>\n",
       "    </tr>\n",
       "    <tr>\n",
       "      <th>SCF%</th>\n",
       "      <td>1736.0</td>\n",
       "      <td>50.000063</td>\n",
       "      <td>10.623748</td>\n",
       "      <td>14.810000</td>\n",
       "      <td>43.1700</td>\n",
       "      <td>50.000000</td>\n",
       "      <td>56.830</td>\n",
       "      <td>85.190</td>\n",
       "    </tr>\n",
       "    <tr>\n",
       "      <th>SH%</th>\n",
       "      <td>1736.0</td>\n",
       "      <td>8.458710</td>\n",
       "      <td>6.235143</td>\n",
       "      <td>0.000000</td>\n",
       "      <td>4.1700</td>\n",
       "      <td>7.690000</td>\n",
       "      <td>12.500</td>\n",
       "      <td>50.000</td>\n",
       "    </tr>\n",
       "    <tr>\n",
       "      <th>SV%</th>\n",
       "      <td>1736.0</td>\n",
       "      <td>91.541394</td>\n",
       "      <td>6.235157</td>\n",
       "      <td>50.000000</td>\n",
       "      <td>87.5000</td>\n",
       "      <td>92.310000</td>\n",
       "      <td>95.830</td>\n",
       "      <td>100.000</td>\n",
       "    </tr>\n",
       "    <tr>\n",
       "      <th>PDO</th>\n",
       "      <td>1736.0</td>\n",
       "      <td>1.000009</td>\n",
       "      <td>0.091223</td>\n",
       "      <td>0.553000</td>\n",
       "      <td>0.9420</td>\n",
       "      <td>1.000000</td>\n",
       "      <td>1.058</td>\n",
       "      <td>1.447</td>\n",
       "    </tr>\n",
       "  </tbody>\n",
       "</table>\n",
       "</div>"
      ],
      "text/plain": [
       "       count       mean        std        min      25%        50%     75%  \\\n",
       "TOI   1736.0  48.557661   4.241102  31.783333  45.6625  48.933333  51.500   \n",
       "CF%   1736.0  50.000035   8.153142  25.270000  44.1600  50.000000  55.840   \n",
       "SCF%  1736.0  50.000063  10.623748  14.810000  43.1700  50.000000  56.830   \n",
       "SH%   1736.0   8.458710   6.235143   0.000000   4.1700   7.690000  12.500   \n",
       "SV%   1736.0  91.541394   6.235157  50.000000  87.5000  92.310000  95.830   \n",
       "PDO   1736.0   1.000009   0.091223   0.553000   0.9420   1.000000   1.058   \n",
       "\n",
       "          max  \n",
       "TOI    68.200  \n",
       "CF%    74.730  \n",
       "SCF%   85.190  \n",
       "SH%    50.000  \n",
       "SV%   100.000  \n",
       "PDO     1.447  "
      ]
     },
     "execution_count": 3,
     "metadata": {},
     "output_type": "execute_result"
    }
   ],
   "source": [
    "data.describe(include='float64').T"
   ]
  },
  {
   "cell_type": "code",
   "execution_count": 4,
   "metadata": {},
   "outputs": [
    {
     "data": {
      "text/html": [
       "<div>\n",
       "<style scoped>\n",
       "    .dataframe tbody tr th:only-of-type {\n",
       "        vertical-align: middle;\n",
       "    }\n",
       "\n",
       "    .dataframe tbody tr th {\n",
       "        vertical-align: top;\n",
       "    }\n",
       "\n",
       "    .dataframe thead th {\n",
       "        text-align: right;\n",
       "    }\n",
       "</style>\n",
       "<table border=\"1\" class=\"dataframe\">\n",
       "  <thead>\n",
       "    <tr style=\"text-align: right;\">\n",
       "      <th></th>\n",
       "      <th>count</th>\n",
       "      <th>unique</th>\n",
       "      <th>top</th>\n",
       "      <th>freq</th>\n",
       "    </tr>\n",
       "  </thead>\n",
       "  <tbody>\n",
       "    <tr>\n",
       "      <th>Game</th>\n",
       "      <td>1736</td>\n",
       "      <td>868</td>\n",
       "      <td>2021-01-13 - Blackhawks 1, Lightning 5</td>\n",
       "      <td>2</td>\n",
       "    </tr>\n",
       "    <tr>\n",
       "      <th>Team</th>\n",
       "      <td>1736</td>\n",
       "      <td>31</td>\n",
       "      <td>Chicago Blackhawks</td>\n",
       "      <td>56</td>\n",
       "    </tr>\n",
       "    <tr>\n",
       "      <th>Unnamed: 2</th>\n",
       "      <td>1736</td>\n",
       "      <td>1</td>\n",
       "      <td>Limited ReportFull Report</td>\n",
       "      <td>1736</td>\n",
       "    </tr>\n",
       "  </tbody>\n",
       "</table>\n",
       "</div>"
      ],
      "text/plain": [
       "           count unique                                     top  freq\n",
       "Game        1736    868  2021-01-13 - Blackhawks 1, Lightning 5     2\n",
       "Team        1736     31                      Chicago Blackhawks    56\n",
       "Unnamed: 2  1736      1               Limited ReportFull Report  1736"
      ]
     },
     "execution_count": 4,
     "metadata": {},
     "output_type": "execute_result"
    }
   ],
   "source": [
    "data.describe(include='object').T"
   ]
  },
  {
   "cell_type": "code",
   "execution_count": 5,
   "metadata": {},
   "outputs": [
    {
     "data": {
      "image/png": "[encoded data removed]",
      "text/plain": [
       "<Figure size 720x720 with 12 Axes>"
      ]
     },
     "metadata": {
      "needs_background": "light"
     },
     "output_type": "display_data"
    }
   ],
   "source": [
    "Histogram = data.hist(bins=10, figsize=(10,10))"
   ]
  },
  {
   "cell_type": "code",
   "execution_count": 6,
   "metadata": {},
   "outputs": [
    {
     "data": {
      "image/png": "[encoded data removed]",
      "text/plain": [
       "<Figure size 432x288 with 1 Axes>"
      ]
     },
     "metadata": {
      "needs_background": "light"
     },
     "output_type": "display_data"
    }
   ],
   "source": [
    "boxplotforya = data.boxplot(grid=False, vert=False,fontsize=15)"
   ]
  },
  {
   "cell_type": "code",
   "execution_count": 7,
   "metadata": {},
   "outputs": [
    {
     "data": {
      "image/png": "[encoded data removed]",
      "text/plain": [
       "<Figure size 1008x864 with 2 Axes>"
      ]
     },
     "metadata": {
      "needs_background": "light"
     },
     "output_type": "display_data"
    }
   ],
   "source": [
    "plt.figure(figsize=(14,12))\n",
    "sns.heatmap(data.corr(),linewidths=.1,cmap=\"YlGnBu\", annot=True)\n",
    "plt.yticks(rotation=0);"
   ]
  },
  {
   "cell_type": "markdown",
   "metadata": {},
   "source": [
    "# Task 2"
   ]
  },
  {
   "cell_type": "markdown",
   "metadata": {},
   "source": [
    "## Analysis Pipline:"
   ]
  },
  {
   "cell_type": "markdown",
   "metadata": {
    "tags": []
   },
   "source": [
    "### In this step, \n",
    "- I dropped the columns of 'CF', 'CA', 'SCF', 'SCA', 'PDO', 'Unnamed: 2' as we don't need them"
   ]
  },
  {
   "cell_type": "code",
   "execution_count": 8,
   "metadata": {},
   "outputs": [
    {
     "data": {
      "text/plain": [
       "(1736, 7)"
      ]
     },
     "execution_count": 8,
     "metadata": {},
     "output_type": "execute_result"
    }
   ],
   "source": [
    "df = data.drop(columns =['CF','CA','SCF','SCA','TOI', 'Unnamed: 2'])\n",
    "df.shape"
   ]
  },
  {
   "cell_type": "markdown",
   "metadata": {
    "tags": []
   },
   "source": [
    "### In this step for the Vancouver Canucks,\n",
    "- I dropped all the teams except the Vancouver Canucks to create its own dataframe\n",
    "- Reset index to make it easier to drop games that arn't needed \n",
    "- Dropped all of the games that arn't needed. Know we have Vancouvers 10 games before and 10 games after their outbreak\n",
    "- Reset index to make it easier to analyze Vancouvers Games and droped the column it added of 'level_0'\n",
    "- This dataframe gives me the 10 games before the Vancouver Canucks Covid outbreak\n",
    "- This dataframe gives me the 10 games after the Vancouver Canucks Covid outbreak\n",
    "- I then reset the index again for both before and after\n",
    "- Renamed columns to before and after for both"
   ]
  },
  {
   "cell_type": "code",
   "execution_count": 9,
   "metadata": {},
   "outputs": [],
   "source": [
    "Canucks = df.drop(data[data.Team.isin([\"Arizona Coyotes\", \"Buffalo Sabres\", \"Boston Bruins\", \"Carolina Hurricanes\", \"Columbus Blue Jackets\", \"Calgary Flames\", \"Chicago Blackhawks\", \"Colorado Avalanche\", \"Dallas Stars\", \"Detroit Red Wings\", \"Florida Panthers\", \"Los Angeles Kings\", \"Minnesota Wild\", \"Nashville Predators\", \"Pittsburgh Penguins\", \"San Jose Sharks\", \"Tampa Bay Lightning\", \"St Louis Blues\", \"Vegas Golden Knights\", \"Edmonton Oilers\", \"Montreal Canadiens\", \"New Jersey Devils\", \"New York Islanders\", \"New York Rangers\", \"Ottawa Senators\", \"Philadelphia Flyers\", \"Toronto Maple Leafs\", \"Winnipeg Jets\", \"Washington Capitals\", \"Anaheim Ducks\"])].index)\n",
    "Canucks1 = Canucks.reset_index()\n",
    "Canucks2 = Canucks1.drop(Canucks1.index[0:27]).drop(Canucks1.index[47:56])\n",
    "Canucks3 = Canucks2.reset_index().drop(columns = \"index\")\n",
    "Canucks4 = Canucks3.drop(columns =['level_0'])\n",
    "CanucksBefore = Canucks4.drop(Canucks3.index[10:20])\n",
    "CanucksBefore1 = CanucksBefore.reset_index()\n",
    "CanucksBefore2 = CanucksBefore1.rename(columns={'CF%':\"CF% Before\",'SCF%':\"SCF% Before\",'SH%':\"SH% Before\",'SV%':\"SV% Before\",'PDO':\"PDO Before\"}).drop(columns=\"Team\")\n",
    "CanucksAfter = Canucks4.drop(Canucks3.index[0:10]).drop(Canucks3.index[20:20])\n",
    "CanucksAfter1 = CanucksAfter.reset_index()\n",
    "CanucksAfter2 = CanucksAfter1.rename(columns={'CF%':\"CF% After\",'SCF%':\"SCF% After\",'SH%':\"SH% After\",'SV%':\"SV% After\",'PDO':\"PDO After\"}).drop(columns=\"Team\")"
   ]
  },
  {
   "cell_type": "markdown",
   "metadata": {},
   "source": [
    "### In this step for the Vancouver Canucks,\n",
    "- I added the two seperate data frames of the 10 games before and 10 games after to make the visulization process easier"
   ]
  },
  {
   "cell_type": "code",
   "execution_count": 10,
   "metadata": {},
   "outputs": [],
   "source": [
    "CanucksBeforeAndAfter = pd.concat([CanucksBefore2,CanucksAfter2], axis=1)"
   ]
  },
  {
   "cell_type": "markdown",
   "metadata": {},
   "source": [
    "### In this step for the Buffalo Sabres, \n",
    "- I dropped all of the teams except the Buffalo Sabres to create its own dataframe\n",
    "- Reset index to make it easier to drop games that arn't needed for the Buffalo Sabres\n",
    "- Dropped all of the games that arn't needed. Know we have Buffalos 10 games before and 10 games after their outbreak\n",
    "- This dataframe gives me the 10 games before the buffalo Sabres Covid outbreak\n",
    "- This dataframe gives me the 10 games after the Buffalo Sabres Covid outbreak\n",
    "- I then reset the index again for both before and after\n",
    "- Renamed columns to before and after for both"
   ]
  },
  {
   "cell_type": "code",
   "execution_count": 11,
   "metadata": {},
   "outputs": [],
   "source": [
    "Sabres = df.drop(data[data.Team.isin([\"Arizona Coyotes\", \"Vancouver Canucks\",  \"Boston Bruins\", \"Carolina Hurricanes\", \"Columbus Blue Jackets\", \"Calgary Flames\", \"Chicago Blackhawks\", \"Colorado Avalanche\", \"Dallas Stars\", \"Detroit Red Wings\", \"Florida Panthers\", \"Los Angeles Kings\", \"Minnesota Wild\", \"Nashville Predators\", \"Pittsburgh Penguins\", \"San Jose Sharks\", \"Tampa Bay Lightning\", \"St Louis Blues\", \"Vegas Golden Knights\", \"Edmonton Oilers\", \"Montreal Canadiens\", \"New Jersey Devils\", \"New York Islanders\", \"New York Rangers\", \"Ottawa Senators\", \"Philadelphia Flyers\", \"Toronto Maple Leafs\", \"Winnipeg Jets\", \"Washington Capitals\", \"Anaheim Ducks\"])].index)\n",
    "Sabres1 = Sabres.reset_index()\n",
    "Sabres2 = Sabres1.drop(Sabres1.index[20:])\n",
    "SabresBefore = Sabres2.drop(Sabres2.index[10:20])\n",
    "SabresBefore1 = SabresBefore.reset_index()\n",
    "SabresBefore2 = SabresBefore1.rename(columns={'CF%':\"CF% Before\",'SCF%':\"SCF% Before\",'SH%':\"SH% Before\",'SV%':\"SV% Before\",'PDO':\"PDO Before\"}).drop(columns=\"Team\")\n",
    "SabresAfter = Sabres2.drop(Sabres2.index[0:10]).drop(Sabres2.index[20:])\n",
    "SabresAfter1 = SabresAfter.reset_index()\n",
    "SabresAfter2 = SabresAfter1.rename(columns={'CF%':\"CF% After\",'SCF%':\"SCF% After\",'SH%':\"SH% After\",'SV%':\"SV% After\",'PDO':\"PDO After\"}).drop(columns=\"Team\")"
   ]
  },
  {
   "cell_type": "markdown",
   "metadata": {},
   "source": [
    "### In this step for the Buffalo Sabres,\n",
    "- I added the two seperate data frames of the 10 games before and 10 games after to make the visulization process easier"
   ]
  },
  {
   "cell_type": "code",
   "execution_count": 12,
   "metadata": {},
   "outputs": [],
   "source": [
    "SabresBeforeAndAfter = pd.concat([SabresBefore2,SabresAfter2], axis=1)"
   ]
  },
  {
   "cell_type": "markdown",
   "metadata": {},
   "source": [
    "### Final Dataframe for Tableau \n",
    "- Combining Canucks and Sabres dataframes into one for Tableau program\n",
    "- Renamed columns for this process"
   ]
  },
  {
   "cell_type": "code",
   "execution_count": 66,
   "metadata": {},
   "outputs": [],
   "source": [
    "FCBandA = CanucksBandA.drop(columns = \"Game\")\n",
    "FCBandA1 = FCBandA[['CF% Before', 'CF% After', 'SCF% Before', 'SCF% After', 'SV% Before', 'SV% After', 'SH% Before', 'SH% After', 'PDO Before', 'PDO After']]\n",
    "FSBandA = SabresBandA.drop(columns = \"Game\")\n",
    "FSBandA1 = FSBandA[['CF% Before', 'CF% After', 'SCF% Before', 'SCF% After', 'SV% Before', 'SV% After', 'SH% Before', 'SH% After', 'PDO Before', 'PDO After']]\n",
    "CanucksColumn = CanucksBandA.rename(columns = {\"CF% Before\" : \"Canucks CF% Before\", \"SCF% Before\" : \"Canucks SCF% Before\", \"SH% Before\" : \"Canucks SH% Before\", \"SV% Before\" : \"Canucks SV% Before\", \"PDO Before\" : \"Canucks PDO Before\", \"CF% After\" : \"Canucks CF% After\", \"SCF% After\" : \"Canucks SCF% After\", \"SH% After\" : \"Canucks SH% After\", \"SV% After\" : \"Canucks SV% After\", \"PDO After\" : \"Canucks PDO After\"})\n",
    "SabresColumn = SabresBandA.rename(columns = {\"CF% Before\" : \"Sabres CF% Before\", \"SCF% Before\" : \"Sabres SCF% Before\", \"SH% Before\" : \"Sabres SH% Before\", \"SV% Before\" : \"Sabres SV% Before\", \"PDO Before\" : \"Sabres PDO Before\", \"CF% After\" : \"Sabres CF% After\", \"SCF% After\" : \"Sabres SCF% After\", \"SH% After\" : \"Sabres SH% After\", \"SV% After\" : \"Sabres SV% After\", \"PDO After\" : \"Sabres PDO After\"})\n",
    "FinalCovidDataFrame = pd.concat([CanucksColumn,SabresColumn], axis=1)"
   ]
  },
  {
   "cell_type": "markdown",
   "metadata": {},
   "source": [
    "# Task 3"
   ]
  },
  {
   "cell_type": "markdown",
   "metadata": {},
   "source": [
    "## Method Chaining: "
   ]
  },
  {
   "cell_type": "code",
   "execution_count": 13,
   "metadata": {},
   "outputs": [],
   "source": [
    "import project_functions1 as pf1"
   ]
  },
  {
   "cell_type": "code",
   "execution_count": 67,
   "metadata": {},
   "outputs": [
    {
     "data": {
      "text/html": [
       "<div>\n",
       "<style scoped>\n",
       "    .dataframe tbody tr th:only-of-type {\n",
       "        vertical-align: middle;\n",
       "    }\n",
       "\n",
       "    .dataframe tbody tr th {\n",
       "        vertical-align: top;\n",
       "    }\n",
       "\n",
       "    .dataframe thead th {\n",
       "        text-align: right;\n",
       "    }\n",
       "</style>\n",
       "<table border=\"1\" class=\"dataframe\">\n",
       "  <thead>\n",
       "    <tr style=\"text-align: right;\">\n",
       "      <th></th>\n",
       "      <th>Game</th>\n",
       "      <th>Team</th>\n",
       "      <th>CF%</th>\n",
       "      <th>SCF%</th>\n",
       "      <th>SH%</th>\n",
       "      <th>SV%</th>\n",
       "      <th>PDO</th>\n",
       "    </tr>\n",
       "  </thead>\n",
       "  <tbody>\n",
       "    <tr>\n",
       "      <th>0</th>\n",
       "      <td>2021-01-13 - Blackhawks 1, Lightning 5</td>\n",
       "      <td>Chicago Blackhawks</td>\n",
       "      <td>49.25</td>\n",
       "      <td>44.19</td>\n",
       "      <td>0.00</td>\n",
       "      <td>86.36</td>\n",
       "      <td>0.864</td>\n",
       "    </tr>\n",
       "    <tr>\n",
       "      <th>1</th>\n",
       "      <td>2021-01-13 - Blackhawks 1, Lightning 5</td>\n",
       "      <td>Tampa Bay Lightning</td>\n",
       "      <td>50.75</td>\n",
       "      <td>55.81</td>\n",
       "      <td>13.64</td>\n",
       "      <td>100.00</td>\n",
       "      <td>1.136</td>\n",
       "    </tr>\n",
       "    <tr>\n",
       "      <th>2</th>\n",
       "      <td>2021-01-13 - Blues 4, Avalanche 1</td>\n",
       "      <td>Colorado Avalanche</td>\n",
       "      <td>50.57</td>\n",
       "      <td>33.33</td>\n",
       "      <td>0.00</td>\n",
       "      <td>85.19</td>\n",
       "      <td>0.852</td>\n",
       "    </tr>\n",
       "    <tr>\n",
       "      <th>3</th>\n",
       "      <td>2021-01-13 - Blues 4, Avalanche 1</td>\n",
       "      <td>St Louis Blues</td>\n",
       "      <td>49.43</td>\n",
       "      <td>66.67</td>\n",
       "      <td>14.81</td>\n",
       "      <td>100.00</td>\n",
       "      <td>1.148</td>\n",
       "    </tr>\n",
       "    <tr>\n",
       "      <th>4</th>\n",
       "      <td>2021-01-13 - Canadiens 4, Maple Leafs 5</td>\n",
       "      <td>Montreal Canadiens</td>\n",
       "      <td>47.47</td>\n",
       "      <td>45.45</td>\n",
       "      <td>9.09</td>\n",
       "      <td>90.00</td>\n",
       "      <td>0.991</td>\n",
       "    </tr>\n",
       "    <tr>\n",
       "      <th>...</th>\n",
       "      <td>...</td>\n",
       "      <td>...</td>\n",
       "      <td>...</td>\n",
       "      <td>...</td>\n",
       "      <td>...</td>\n",
       "      <td>...</td>\n",
       "      <td>...</td>\n",
       "    </tr>\n",
       "    <tr>\n",
       "      <th>1731</th>\n",
       "      <td>2021-05-16 - Flames 6, Canucks 5</td>\n",
       "      <td>Vancouver Canucks</td>\n",
       "      <td>39.02</td>\n",
       "      <td>47.22</td>\n",
       "      <td>8.70</td>\n",
       "      <td>78.26</td>\n",
       "      <td>0.870</td>\n",
       "    </tr>\n",
       "    <tr>\n",
       "      <th>1732</th>\n",
       "      <td>2021-05-18 - Flames 2, Canucks 4</td>\n",
       "      <td>Calgary Flames</td>\n",
       "      <td>53.75</td>\n",
       "      <td>59.52</td>\n",
       "      <td>3.33</td>\n",
       "      <td>86.36</td>\n",
       "      <td>0.897</td>\n",
       "    </tr>\n",
       "    <tr>\n",
       "      <th>1733</th>\n",
       "      <td>2021-05-18 - Flames 2, Canucks 4</td>\n",
       "      <td>Vancouver Canucks</td>\n",
       "      <td>46.25</td>\n",
       "      <td>40.48</td>\n",
       "      <td>13.64</td>\n",
       "      <td>96.67</td>\n",
       "      <td>1.103</td>\n",
       "    </tr>\n",
       "    <tr>\n",
       "      <th>1734</th>\n",
       "      <td>2021-05-19 - Canucks 2, Flames 6</td>\n",
       "      <td>Calgary Flames</td>\n",
       "      <td>55.13</td>\n",
       "      <td>62.50</td>\n",
       "      <td>24.00</td>\n",
       "      <td>94.44</td>\n",
       "      <td>1.184</td>\n",
       "    </tr>\n",
       "    <tr>\n",
       "      <th>1735</th>\n",
       "      <td>2021-05-19 - Canucks 2, Flames 6</td>\n",
       "      <td>Vancouver Canucks</td>\n",
       "      <td>44.87</td>\n",
       "      <td>37.50</td>\n",
       "      <td>5.56</td>\n",
       "      <td>76.00</td>\n",
       "      <td>0.816</td>\n",
       "    </tr>\n",
       "  </tbody>\n",
       "</table>\n",
       "<p>1736 rows × 7 columns</p>\n",
       "</div>"
      ],
      "text/plain": [
       "                                         Game                 Team    CF%  \\\n",
       "0      2021-01-13 - Blackhawks 1, Lightning 5   Chicago Blackhawks  49.25   \n",
       "1      2021-01-13 - Blackhawks 1, Lightning 5  Tampa Bay Lightning  50.75   \n",
       "2           2021-01-13 - Blues 4, Avalanche 1   Colorado Avalanche  50.57   \n",
       "3           2021-01-13 - Blues 4, Avalanche 1       St Louis Blues  49.43   \n",
       "4     2021-01-13 - Canadiens 4, Maple Leafs 5   Montreal Canadiens  47.47   \n",
       "...                                       ...                  ...    ...   \n",
       "1731         2021-05-16 - Flames 6, Canucks 5    Vancouver Canucks  39.02   \n",
       "1732         2021-05-18 - Flames 2, Canucks 4       Calgary Flames  53.75   \n",
       "1733         2021-05-18 - Flames 2, Canucks 4    Vancouver Canucks  46.25   \n",
       "1734         2021-05-19 - Canucks 2, Flames 6       Calgary Flames  55.13   \n",
       "1735         2021-05-19 - Canucks 2, Flames 6    Vancouver Canucks  44.87   \n",
       "\n",
       "       SCF%    SH%     SV%    PDO  \n",
       "0     44.19   0.00   86.36  0.864  \n",
       "1     55.81  13.64  100.00  1.136  \n",
       "2     33.33   0.00   85.19  0.852  \n",
       "3     66.67  14.81  100.00  1.148  \n",
       "4     45.45   9.09   90.00  0.991  \n",
       "...     ...    ...     ...    ...  \n",
       "1731  47.22   8.70   78.26  0.870  \n",
       "1732  59.52   3.33   86.36  0.897  \n",
       "1733  40.48  13.64   96.67  1.103  \n",
       "1734  62.50  24.00   94.44  1.184  \n",
       "1735  37.50   5.56   76.00  0.816  \n",
       "\n",
       "[1736 rows x 7 columns]"
      ]
     },
     "execution_count": 67,
     "metadata": {},
     "output_type": "execute_result"
    }
   ],
   "source": [
    "DataFrameProcessed = pf1.load_and_process(path_to_csv_file = \"../data/raw/Games - Natural Stat TrickTeam Season Totals - Natural Stat Trick.csv\")\n",
    "DataFrameProcessed"
   ]
  },
  {
   "cell_type": "code",
   "execution_count": 68,
   "metadata": {},
   "outputs": [
    {
     "data": {
      "text/html": [
       "<div>\n",
       "<style scoped>\n",
       "    .dataframe tbody tr th:only-of-type {\n",
       "        vertical-align: middle;\n",
       "    }\n",
       "\n",
       "    .dataframe tbody tr th {\n",
       "        vertical-align: top;\n",
       "    }\n",
       "\n",
       "    .dataframe thead th {\n",
       "        text-align: right;\n",
       "    }\n",
       "</style>\n",
       "<table border=\"1\" class=\"dataframe\">\n",
       "  <thead>\n",
       "    <tr style=\"text-align: right;\">\n",
       "      <th></th>\n",
       "      <th>index</th>\n",
       "      <th>Game</th>\n",
       "      <th>CF% Before</th>\n",
       "      <th>SCF% Before</th>\n",
       "      <th>SH% Before</th>\n",
       "      <th>SV% Before</th>\n",
       "      <th>PDO Before</th>\n",
       "    </tr>\n",
       "  </thead>\n",
       "  <tbody>\n",
       "    <tr>\n",
       "      <th>0</th>\n",
       "      <td>0</td>\n",
       "      <td>2021-03-06 - Maple Leafs 2, Canucks 4</td>\n",
       "      <td>42.48</td>\n",
       "      <td>41.51</td>\n",
       "      <td>8.00</td>\n",
       "      <td>94.59</td>\n",
       "      <td>1.026</td>\n",
       "    </tr>\n",
       "    <tr>\n",
       "      <th>1</th>\n",
       "      <td>1</td>\n",
       "      <td>2021-03-08 - Canadiens 1, Canucks 2</td>\n",
       "      <td>39.58</td>\n",
       "      <td>40.00</td>\n",
       "      <td>0.00</td>\n",
       "      <td>100.00</td>\n",
       "      <td>1.000</td>\n",
       "    </tr>\n",
       "    <tr>\n",
       "      <th>2</th>\n",
       "      <td>2</td>\n",
       "      <td>2021-03-10 - Canadiens 5, Canucks 1</td>\n",
       "      <td>34.69</td>\n",
       "      <td>24.00</td>\n",
       "      <td>0.00</td>\n",
       "      <td>89.19</td>\n",
       "      <td>0.892</td>\n",
       "    </tr>\n",
       "    <tr>\n",
       "      <th>3</th>\n",
       "      <td>3</td>\n",
       "      <td>2021-03-13 - Oilers 1, Canucks 2</td>\n",
       "      <td>46.81</td>\n",
       "      <td>41.03</td>\n",
       "      <td>5.00</td>\n",
       "      <td>100.00</td>\n",
       "      <td>1.050</td>\n",
       "    </tr>\n",
       "    <tr>\n",
       "      <th>4</th>\n",
       "      <td>4</td>\n",
       "      <td>2021-03-15 - Canucks 3, Senators 2</td>\n",
       "      <td>40.35</td>\n",
       "      <td>40.32</td>\n",
       "      <td>7.69</td>\n",
       "      <td>97.62</td>\n",
       "      <td>1.053</td>\n",
       "    </tr>\n",
       "    <tr>\n",
       "      <th>5</th>\n",
       "      <td>5</td>\n",
       "      <td>2021-03-17 - Canucks 3, Senators 2</td>\n",
       "      <td>38.68</td>\n",
       "      <td>37.50</td>\n",
       "      <td>7.69</td>\n",
       "      <td>92.31</td>\n",
       "      <td>1.000</td>\n",
       "    </tr>\n",
       "    <tr>\n",
       "      <th>6</th>\n",
       "      <td>6</td>\n",
       "      <td>2021-03-19 - Canucks 3, Canadiens 2</td>\n",
       "      <td>46.15</td>\n",
       "      <td>42.86</td>\n",
       "      <td>8.00</td>\n",
       "      <td>100.00</td>\n",
       "      <td>1.080</td>\n",
       "    </tr>\n",
       "    <tr>\n",
       "      <th>7</th>\n",
       "      <td>7</td>\n",
       "      <td>2021-03-20 - Canucks 4, Canadiens 5</td>\n",
       "      <td>32.04</td>\n",
       "      <td>22.92</td>\n",
       "      <td>23.08</td>\n",
       "      <td>91.18</td>\n",
       "      <td>1.143</td>\n",
       "    </tr>\n",
       "    <tr>\n",
       "      <th>8</th>\n",
       "      <td>8</td>\n",
       "      <td>2021-03-22 - Jets 4, Canucks 0</td>\n",
       "      <td>47.79</td>\n",
       "      <td>42.86</td>\n",
       "      <td>0.00</td>\n",
       "      <td>85.71</td>\n",
       "      <td>0.857</td>\n",
       "    </tr>\n",
       "    <tr>\n",
       "      <th>9</th>\n",
       "      <td>9</td>\n",
       "      <td>2021-03-24 - Jets 5, Canucks 1</td>\n",
       "      <td>62.11</td>\n",
       "      <td>62.22</td>\n",
       "      <td>3.13</td>\n",
       "      <td>91.30</td>\n",
       "      <td>0.944</td>\n",
       "    </tr>\n",
       "  </tbody>\n",
       "</table>\n",
       "</div>"
      ],
      "text/plain": [
       "   index                                   Game  CF% Before  SCF% Before  \\\n",
       "0      0  2021-03-06 - Maple Leafs 2, Canucks 4       42.48        41.51   \n",
       "1      1    2021-03-08 - Canadiens 1, Canucks 2       39.58        40.00   \n",
       "2      2    2021-03-10 - Canadiens 5, Canucks 1       34.69        24.00   \n",
       "3      3       2021-03-13 - Oilers 1, Canucks 2       46.81        41.03   \n",
       "4      4     2021-03-15 - Canucks 3, Senators 2       40.35        40.32   \n",
       "5      5     2021-03-17 - Canucks 3, Senators 2       38.68        37.50   \n",
       "6      6    2021-03-19 - Canucks 3, Canadiens 2       46.15        42.86   \n",
       "7      7    2021-03-20 - Canucks 4, Canadiens 5       32.04        22.92   \n",
       "8      8         2021-03-22 - Jets 4, Canucks 0       47.79        42.86   \n",
       "9      9         2021-03-24 - Jets 5, Canucks 1       62.11        62.22   \n",
       "\n",
       "   SH% Before  SV% Before  PDO Before  \n",
       "0        8.00       94.59       1.026  \n",
       "1        0.00      100.00       1.000  \n",
       "2        0.00       89.19       0.892  \n",
       "3        5.00      100.00       1.050  \n",
       "4        7.69       97.62       1.053  \n",
       "5        7.69       92.31       1.000  \n",
       "6        8.00      100.00       1.080  \n",
       "7       23.08       91.18       1.143  \n",
       "8        0.00       85.71       0.857  \n",
       "9        3.13       91.30       0.944  "
      ]
     },
     "execution_count": 68,
     "metadata": {},
     "output_type": "execute_result"
    }
   ],
   "source": [
    "CanucksBeforeFinal = pf1.Canucks_Before_Data(DataFrameProcessed)\n",
    "CanucksBeforeFinal"
   ]
  },
  {
   "cell_type": "code",
   "execution_count": 69,
   "metadata": {},
   "outputs": [
    {
     "data": {
      "text/html": [
       "<div>\n",
       "<style scoped>\n",
       "    .dataframe tbody tr th:only-of-type {\n",
       "        vertical-align: middle;\n",
       "    }\n",
       "\n",
       "    .dataframe tbody tr th {\n",
       "        vertical-align: top;\n",
       "    }\n",
       "\n",
       "    .dataframe thead th {\n",
       "        text-align: right;\n",
       "    }\n",
       "</style>\n",
       "<table border=\"1\" class=\"dataframe\">\n",
       "  <thead>\n",
       "    <tr style=\"text-align: right;\">\n",
       "      <th></th>\n",
       "      <th>index</th>\n",
       "      <th>Game</th>\n",
       "      <th>CF% After</th>\n",
       "      <th>SCF% After</th>\n",
       "      <th>SH% After</th>\n",
       "      <th>SV% After</th>\n",
       "      <th>PDO After</th>\n",
       "    </tr>\n",
       "  </thead>\n",
       "  <tbody>\n",
       "    <tr>\n",
       "      <th>0</th>\n",
       "      <td>10</td>\n",
       "      <td>2021-04-18 - Maple Leafs 2, Canucks 3</td>\n",
       "      <td>35.87</td>\n",
       "      <td>33.33</td>\n",
       "      <td>12.50</td>\n",
       "      <td>96.77</td>\n",
       "      <td>1.093</td>\n",
       "    </tr>\n",
       "    <tr>\n",
       "      <th>1</th>\n",
       "      <td>11</td>\n",
       "      <td>2021-04-20 - Maple Leafs 3, Canucks 6</td>\n",
       "      <td>50.53</td>\n",
       "      <td>45.83</td>\n",
       "      <td>16.00</td>\n",
       "      <td>96.97</td>\n",
       "      <td>1.130</td>\n",
       "    </tr>\n",
       "    <tr>\n",
       "      <th>2</th>\n",
       "      <td>12</td>\n",
       "      <td>2021-04-22 - Senators 3, Canucks 0</td>\n",
       "      <td>59.26</td>\n",
       "      <td>55.00</td>\n",
       "      <td>0.00</td>\n",
       "      <td>100.00</td>\n",
       "      <td>1.000</td>\n",
       "    </tr>\n",
       "    <tr>\n",
       "      <th>3</th>\n",
       "      <td>13</td>\n",
       "      <td>2021-04-24 - Senators 2, Canucks 4</td>\n",
       "      <td>42.53</td>\n",
       "      <td>32.43</td>\n",
       "      <td>8.70</td>\n",
       "      <td>88.89</td>\n",
       "      <td>0.976</td>\n",
       "    </tr>\n",
       "    <tr>\n",
       "      <th>4</th>\n",
       "      <td>14</td>\n",
       "      <td>2021-04-26 - Canucks 1, Senators 2</td>\n",
       "      <td>44.05</td>\n",
       "      <td>30.00</td>\n",
       "      <td>4.55</td>\n",
       "      <td>91.67</td>\n",
       "      <td>0.962</td>\n",
       "    </tr>\n",
       "    <tr>\n",
       "      <th>5</th>\n",
       "      <td>15</td>\n",
       "      <td>2021-04-28 - Canucks 3, Senators 6</td>\n",
       "      <td>40.22</td>\n",
       "      <td>28.95</td>\n",
       "      <td>16.67</td>\n",
       "      <td>81.48</td>\n",
       "      <td>0.981</td>\n",
       "    </tr>\n",
       "    <tr>\n",
       "      <th>6</th>\n",
       "      <td>16</td>\n",
       "      <td>2021-04-29 - Canucks 1, Maple Leafs 4</td>\n",
       "      <td>42.55</td>\n",
       "      <td>40.00</td>\n",
       "      <td>0.00</td>\n",
       "      <td>83.33</td>\n",
       "      <td>0.833</td>\n",
       "    </tr>\n",
       "    <tr>\n",
       "      <th>7</th>\n",
       "      <td>17</td>\n",
       "      <td>2021-05-01 - Canucks 1, Maple Leafs 5</td>\n",
       "      <td>52.27</td>\n",
       "      <td>48.98</td>\n",
       "      <td>4.35</td>\n",
       "      <td>86.21</td>\n",
       "      <td>0.906</td>\n",
       "    </tr>\n",
       "    <tr>\n",
       "      <th>8</th>\n",
       "      <td>18</td>\n",
       "      <td>2021-05-03 - Oilers 5, Canucks 3</td>\n",
       "      <td>40.20</td>\n",
       "      <td>37.25</td>\n",
       "      <td>10.00</td>\n",
       "      <td>87.10</td>\n",
       "      <td>0.971</td>\n",
       "    </tr>\n",
       "    <tr>\n",
       "      <th>9</th>\n",
       "      <td>19</td>\n",
       "      <td>2021-05-04 - Oilers 4, Canucks 1</td>\n",
       "      <td>48.28</td>\n",
       "      <td>42.86</td>\n",
       "      <td>4.55</td>\n",
       "      <td>90.48</td>\n",
       "      <td>0.950</td>\n",
       "    </tr>\n",
       "  </tbody>\n",
       "</table>\n",
       "</div>"
      ],
      "text/plain": [
       "   index                                   Game  CF% After  SCF% After  \\\n",
       "0     10  2021-04-18 - Maple Leafs 2, Canucks 3      35.87       33.33   \n",
       "1     11  2021-04-20 - Maple Leafs 3, Canucks 6      50.53       45.83   \n",
       "2     12     2021-04-22 - Senators 3, Canucks 0      59.26       55.00   \n",
       "3     13     2021-04-24 - Senators 2, Canucks 4      42.53       32.43   \n",
       "4     14     2021-04-26 - Canucks 1, Senators 2      44.05       30.00   \n",
       "5     15     2021-04-28 - Canucks 3, Senators 6      40.22       28.95   \n",
       "6     16  2021-04-29 - Canucks 1, Maple Leafs 4      42.55       40.00   \n",
       "7     17  2021-05-01 - Canucks 1, Maple Leafs 5      52.27       48.98   \n",
       "8     18       2021-05-03 - Oilers 5, Canucks 3      40.20       37.25   \n",
       "9     19       2021-05-04 - Oilers 4, Canucks 1      48.28       42.86   \n",
       "\n",
       "   SH% After  SV% After  PDO After  \n",
       "0      12.50      96.77      1.093  \n",
       "1      16.00      96.97      1.130  \n",
       "2       0.00     100.00      1.000  \n",
       "3       8.70      88.89      0.976  \n",
       "4       4.55      91.67      0.962  \n",
       "5      16.67      81.48      0.981  \n",
       "6       0.00      83.33      0.833  \n",
       "7       4.35      86.21      0.906  \n",
       "8      10.00      87.10      0.971  \n",
       "9       4.55      90.48      0.950  "
      ]
     },
     "execution_count": 69,
     "metadata": {},
     "output_type": "execute_result"
    }
   ],
   "source": [
    "CanucksAfterFinal = pf1.Canucks_After_Data(DataFrameProcessed)\n",
    "CanucksAfterFinal"
   ]
  },
  {
   "cell_type": "code",
   "execution_count": 70,
   "metadata": {},
   "outputs": [
    {
     "data": {
      "text/html": [
       "<div>\n",
       "<style scoped>\n",
       "    .dataframe tbody tr th:only-of-type {\n",
       "        vertical-align: middle;\n",
       "    }\n",
       "\n",
       "    .dataframe tbody tr th {\n",
       "        vertical-align: top;\n",
       "    }\n",
       "\n",
       "    .dataframe thead th {\n",
       "        text-align: right;\n",
       "    }\n",
       "</style>\n",
       "<table border=\"1\" class=\"dataframe\">\n",
       "  <thead>\n",
       "    <tr style=\"text-align: right;\">\n",
       "      <th></th>\n",
       "      <th>Game</th>\n",
       "      <th>CF% Before</th>\n",
       "      <th>SCF% Before</th>\n",
       "      <th>SH% Before</th>\n",
       "      <th>SV% Before</th>\n",
       "      <th>PDO Before</th>\n",
       "      <th>Game</th>\n",
       "      <th>CF% After</th>\n",
       "      <th>SCF% After</th>\n",
       "      <th>SH% After</th>\n",
       "      <th>SV% After</th>\n",
       "      <th>PDO After</th>\n",
       "    </tr>\n",
       "  </thead>\n",
       "  <tbody>\n",
       "    <tr>\n",
       "      <th>0</th>\n",
       "      <td>2021-03-06 - Maple Leafs 2, Canucks 4</td>\n",
       "      <td>42.48</td>\n",
       "      <td>41.51</td>\n",
       "      <td>8.00</td>\n",
       "      <td>94.59</td>\n",
       "      <td>1.026</td>\n",
       "      <td>2021-04-18 - Maple Leafs 2, Canucks 3</td>\n",
       "      <td>35.87</td>\n",
       "      <td>33.33</td>\n",
       "      <td>12.50</td>\n",
       "      <td>96.77</td>\n",
       "      <td>1.093</td>\n",
       "    </tr>\n",
       "    <tr>\n",
       "      <th>1</th>\n",
       "      <td>2021-03-08 - Canadiens 1, Canucks 2</td>\n",
       "      <td>39.58</td>\n",
       "      <td>40.00</td>\n",
       "      <td>0.00</td>\n",
       "      <td>100.00</td>\n",
       "      <td>1.000</td>\n",
       "      <td>2021-04-20 - Maple Leafs 3, Canucks 6</td>\n",
       "      <td>50.53</td>\n",
       "      <td>45.83</td>\n",
       "      <td>16.00</td>\n",
       "      <td>96.97</td>\n",
       "      <td>1.130</td>\n",
       "    </tr>\n",
       "    <tr>\n",
       "      <th>2</th>\n",
       "      <td>2021-03-10 - Canadiens 5, Canucks 1</td>\n",
       "      <td>34.69</td>\n",
       "      <td>24.00</td>\n",
       "      <td>0.00</td>\n",
       "      <td>89.19</td>\n",
       "      <td>0.892</td>\n",
       "      <td>2021-04-22 - Senators 3, Canucks 0</td>\n",
       "      <td>59.26</td>\n",
       "      <td>55.00</td>\n",
       "      <td>0.00</td>\n",
       "      <td>100.00</td>\n",
       "      <td>1.000</td>\n",
       "    </tr>\n",
       "    <tr>\n",
       "      <th>3</th>\n",
       "      <td>2021-03-13 - Oilers 1, Canucks 2</td>\n",
       "      <td>46.81</td>\n",
       "      <td>41.03</td>\n",
       "      <td>5.00</td>\n",
       "      <td>100.00</td>\n",
       "      <td>1.050</td>\n",
       "      <td>2021-04-24 - Senators 2, Canucks 4</td>\n",
       "      <td>42.53</td>\n",
       "      <td>32.43</td>\n",
       "      <td>8.70</td>\n",
       "      <td>88.89</td>\n",
       "      <td>0.976</td>\n",
       "    </tr>\n",
       "    <tr>\n",
       "      <th>4</th>\n",
       "      <td>2021-03-15 - Canucks 3, Senators 2</td>\n",
       "      <td>40.35</td>\n",
       "      <td>40.32</td>\n",
       "      <td>7.69</td>\n",
       "      <td>97.62</td>\n",
       "      <td>1.053</td>\n",
       "      <td>2021-04-26 - Canucks 1, Senators 2</td>\n",
       "      <td>44.05</td>\n",
       "      <td>30.00</td>\n",
       "      <td>4.55</td>\n",
       "      <td>91.67</td>\n",
       "      <td>0.962</td>\n",
       "    </tr>\n",
       "    <tr>\n",
       "      <th>5</th>\n",
       "      <td>2021-03-17 - Canucks 3, Senators 2</td>\n",
       "      <td>38.68</td>\n",
       "      <td>37.50</td>\n",
       "      <td>7.69</td>\n",
       "      <td>92.31</td>\n",
       "      <td>1.000</td>\n",
       "      <td>2021-04-28 - Canucks 3, Senators 6</td>\n",
       "      <td>40.22</td>\n",
       "      <td>28.95</td>\n",
       "      <td>16.67</td>\n",
       "      <td>81.48</td>\n",
       "      <td>0.981</td>\n",
       "    </tr>\n",
       "    <tr>\n",
       "      <th>6</th>\n",
       "      <td>2021-03-19 - Canucks 3, Canadiens 2</td>\n",
       "      <td>46.15</td>\n",
       "      <td>42.86</td>\n",
       "      <td>8.00</td>\n",
       "      <td>100.00</td>\n",
       "      <td>1.080</td>\n",
       "      <td>2021-04-29 - Canucks 1, Maple Leafs 4</td>\n",
       "      <td>42.55</td>\n",
       "      <td>40.00</td>\n",
       "      <td>0.00</td>\n",
       "      <td>83.33</td>\n",
       "      <td>0.833</td>\n",
       "    </tr>\n",
       "    <tr>\n",
       "      <th>7</th>\n",
       "      <td>2021-03-20 - Canucks 4, Canadiens 5</td>\n",
       "      <td>32.04</td>\n",
       "      <td>22.92</td>\n",
       "      <td>23.08</td>\n",
       "      <td>91.18</td>\n",
       "      <td>1.143</td>\n",
       "      <td>2021-05-01 - Canucks 1, Maple Leafs 5</td>\n",
       "      <td>52.27</td>\n",
       "      <td>48.98</td>\n",
       "      <td>4.35</td>\n",
       "      <td>86.21</td>\n",
       "      <td>0.906</td>\n",
       "    </tr>\n",
       "    <tr>\n",
       "      <th>8</th>\n",
       "      <td>2021-03-22 - Jets 4, Canucks 0</td>\n",
       "      <td>47.79</td>\n",
       "      <td>42.86</td>\n",
       "      <td>0.00</td>\n",
       "      <td>85.71</td>\n",
       "      <td>0.857</td>\n",
       "      <td>2021-05-03 - Oilers 5, Canucks 3</td>\n",
       "      <td>40.20</td>\n",
       "      <td>37.25</td>\n",
       "      <td>10.00</td>\n",
       "      <td>87.10</td>\n",
       "      <td>0.971</td>\n",
       "    </tr>\n",
       "    <tr>\n",
       "      <th>9</th>\n",
       "      <td>2021-03-24 - Jets 5, Canucks 1</td>\n",
       "      <td>62.11</td>\n",
       "      <td>62.22</td>\n",
       "      <td>3.13</td>\n",
       "      <td>91.30</td>\n",
       "      <td>0.944</td>\n",
       "      <td>2021-05-04 - Oilers 4, Canucks 1</td>\n",
       "      <td>48.28</td>\n",
       "      <td>42.86</td>\n",
       "      <td>4.55</td>\n",
       "      <td>90.48</td>\n",
       "      <td>0.950</td>\n",
       "    </tr>\n",
       "  </tbody>\n",
       "</table>\n",
       "</div>"
      ],
      "text/plain": [
       "                                    Game  CF% Before  SCF% Before  SH% Before  \\\n",
       "0  2021-03-06 - Maple Leafs 2, Canucks 4       42.48        41.51        8.00   \n",
       "1    2021-03-08 - Canadiens 1, Canucks 2       39.58        40.00        0.00   \n",
       "2    2021-03-10 - Canadiens 5, Canucks 1       34.69        24.00        0.00   \n",
       "3       2021-03-13 - Oilers 1, Canucks 2       46.81        41.03        5.00   \n",
       "4     2021-03-15 - Canucks 3, Senators 2       40.35        40.32        7.69   \n",
       "5     2021-03-17 - Canucks 3, Senators 2       38.68        37.50        7.69   \n",
       "6    2021-03-19 - Canucks 3, Canadiens 2       46.15        42.86        8.00   \n",
       "7    2021-03-20 - Canucks 4, Canadiens 5       32.04        22.92       23.08   \n",
       "8         2021-03-22 - Jets 4, Canucks 0       47.79        42.86        0.00   \n",
       "9         2021-03-24 - Jets 5, Canucks 1       62.11        62.22        3.13   \n",
       "\n",
       "   SV% Before  PDO Before                                   Game  CF% After  \\\n",
       "0       94.59       1.026  2021-04-18 - Maple Leafs 2, Canucks 3      35.87   \n",
       "1      100.00       1.000  2021-04-20 - Maple Leafs 3, Canucks 6      50.53   \n",
       "2       89.19       0.892     2021-04-22 - Senators 3, Canucks 0      59.26   \n",
       "3      100.00       1.050     2021-04-24 - Senators 2, Canucks 4      42.53   \n",
       "4       97.62       1.053     2021-04-26 - Canucks 1, Senators 2      44.05   \n",
       "5       92.31       1.000     2021-04-28 - Canucks 3, Senators 6      40.22   \n",
       "6      100.00       1.080  2021-04-29 - Canucks 1, Maple Leafs 4      42.55   \n",
       "7       91.18       1.143  2021-05-01 - Canucks 1, Maple Leafs 5      52.27   \n",
       "8       85.71       0.857       2021-05-03 - Oilers 5, Canucks 3      40.20   \n",
       "9       91.30       0.944       2021-05-04 - Oilers 4, Canucks 1      48.28   \n",
       "\n",
       "   SCF% After  SH% After  SV% After  PDO After  \n",
       "0       33.33      12.50      96.77      1.093  \n",
       "1       45.83      16.00      96.97      1.130  \n",
       "2       55.00       0.00     100.00      1.000  \n",
       "3       32.43       8.70      88.89      0.976  \n",
       "4       30.00       4.55      91.67      0.962  \n",
       "5       28.95      16.67      81.48      0.981  \n",
       "6       40.00       0.00      83.33      0.833  \n",
       "7       48.98       4.35      86.21      0.906  \n",
       "8       37.25      10.00      87.10      0.971  \n",
       "9       42.86       4.55      90.48      0.950  "
      ]
     },
     "execution_count": 70,
     "metadata": {},
     "output_type": "execute_result"
    }
   ],
   "source": [
    "CanucksBandA = pf1.Canucks_Before_And_After(DataFrameProcessed)\n",
    "CanucksBandA"
   ]
  },
  {
   "cell_type": "code",
   "execution_count": 71,
   "metadata": {},
   "outputs": [
    {
     "data": {
      "text/html": [
       "<div>\n",
       "<style scoped>\n",
       "    .dataframe tbody tr th:only-of-type {\n",
       "        vertical-align: middle;\n",
       "    }\n",
       "\n",
       "    .dataframe tbody tr th {\n",
       "        vertical-align: top;\n",
       "    }\n",
       "\n",
       "    .dataframe thead th {\n",
       "        text-align: right;\n",
       "    }\n",
       "</style>\n",
       "<table border=\"1\" class=\"dataframe\">\n",
       "  <thead>\n",
       "    <tr style=\"text-align: right;\">\n",
       "      <th></th>\n",
       "      <th>index</th>\n",
       "      <th>Game</th>\n",
       "      <th>CF% Before</th>\n",
       "      <th>SCF% Before</th>\n",
       "      <th>SH% Before</th>\n",
       "      <th>SV% Before</th>\n",
       "      <th>PDO Before</th>\n",
       "    </tr>\n",
       "  </thead>\n",
       "  <tbody>\n",
       "    <tr>\n",
       "      <th>0</th>\n",
       "      <td>0</td>\n",
       "      <td>2021-01-14 - Capitals 6, Sabres 4</td>\n",
       "      <td>51.47</td>\n",
       "      <td>55.17</td>\n",
       "      <td>10.53</td>\n",
       "      <td>80.95</td>\n",
       "      <td>0.915</td>\n",
       "    </tr>\n",
       "    <tr>\n",
       "      <th>1</th>\n",
       "      <td>1</td>\n",
       "      <td>2021-01-15 - Capitals 2, Sabres 1</td>\n",
       "      <td>51.43</td>\n",
       "      <td>55.56</td>\n",
       "      <td>4.55</td>\n",
       "      <td>90.48</td>\n",
       "      <td>0.950</td>\n",
       "    </tr>\n",
       "    <tr>\n",
       "      <th>2</th>\n",
       "      <td>2</td>\n",
       "      <td>2021-01-18 - Sabres 6, Flyers 1</td>\n",
       "      <td>49.00</td>\n",
       "      <td>54.55</td>\n",
       "      <td>12.90</td>\n",
       "      <td>95.24</td>\n",
       "      <td>1.081</td>\n",
       "    </tr>\n",
       "    <tr>\n",
       "      <th>3</th>\n",
       "      <td>3</td>\n",
       "      <td>2021-01-19 - Sabres 0, Flyers 3</td>\n",
       "      <td>59.38</td>\n",
       "      <td>58.14</td>\n",
       "      <td>0.00</td>\n",
       "      <td>91.67</td>\n",
       "      <td>0.917</td>\n",
       "    </tr>\n",
       "    <tr>\n",
       "      <th>4</th>\n",
       "      <td>4</td>\n",
       "      <td>2021-01-22 - Sabres 3, Capitals 4</td>\n",
       "      <td>53.85</td>\n",
       "      <td>61.29</td>\n",
       "      <td>13.64</td>\n",
       "      <td>88.00</td>\n",
       "      <td>1.016</td>\n",
       "    </tr>\n",
       "    <tr>\n",
       "      <th>5</th>\n",
       "      <td>5</td>\n",
       "      <td>2021-01-24 - Sabres 4, Capitals 3</td>\n",
       "      <td>56.18</td>\n",
       "      <td>42.86</td>\n",
       "      <td>0.00</td>\n",
       "      <td>94.74</td>\n",
       "      <td>0.947</td>\n",
       "    </tr>\n",
       "    <tr>\n",
       "      <th>6</th>\n",
       "      <td>6</td>\n",
       "      <td>2021-01-26 - Rangers 2, Sabres 3</td>\n",
       "      <td>50.79</td>\n",
       "      <td>63.33</td>\n",
       "      <td>6.67</td>\n",
       "      <td>91.30</td>\n",
       "      <td>0.980</td>\n",
       "    </tr>\n",
       "    <tr>\n",
       "      <th>7</th>\n",
       "      <td>7</td>\n",
       "      <td>2021-01-28 - Rangers 3, Sabres 2</td>\n",
       "      <td>41.67</td>\n",
       "      <td>37.04</td>\n",
       "      <td>5.00</td>\n",
       "      <td>96.15</td>\n",
       "      <td>1.012</td>\n",
       "    </tr>\n",
       "    <tr>\n",
       "      <th>8</th>\n",
       "      <td>8</td>\n",
       "      <td>2021-01-30 - Devils 3, Sabres 4</td>\n",
       "      <td>49.32</td>\n",
       "      <td>51.72</td>\n",
       "      <td>10.00</td>\n",
       "      <td>90.48</td>\n",
       "      <td>1.005</td>\n",
       "    </tr>\n",
       "    <tr>\n",
       "      <th>9</th>\n",
       "      <td>9</td>\n",
       "      <td>2021-01-31 - Devils 5, Sabres 3</td>\n",
       "      <td>43.75</td>\n",
       "      <td>36.36</td>\n",
       "      <td>4.35</td>\n",
       "      <td>88.24</td>\n",
       "      <td>0.926</td>\n",
       "    </tr>\n",
       "  </tbody>\n",
       "</table>\n",
       "</div>"
      ],
      "text/plain": [
       "   index                               Game  CF% Before  SCF% Before  \\\n",
       "0      0  2021-01-14 - Capitals 6, Sabres 4       51.47        55.17   \n",
       "1      1  2021-01-15 - Capitals 2, Sabres 1       51.43        55.56   \n",
       "2      2    2021-01-18 - Sabres 6, Flyers 1       49.00        54.55   \n",
       "3      3    2021-01-19 - Sabres 0, Flyers 3       59.38        58.14   \n",
       "4      4  2021-01-22 - Sabres 3, Capitals 4       53.85        61.29   \n",
       "5      5  2021-01-24 - Sabres 4, Capitals 3       56.18        42.86   \n",
       "6      6   2021-01-26 - Rangers 2, Sabres 3       50.79        63.33   \n",
       "7      7   2021-01-28 - Rangers 3, Sabres 2       41.67        37.04   \n",
       "8      8    2021-01-30 - Devils 3, Sabres 4       49.32        51.72   \n",
       "9      9    2021-01-31 - Devils 5, Sabres 3       43.75        36.36   \n",
       "\n",
       "   SH% Before  SV% Before  PDO Before  \n",
       "0       10.53       80.95       0.915  \n",
       "1        4.55       90.48       0.950  \n",
       "2       12.90       95.24       1.081  \n",
       "3        0.00       91.67       0.917  \n",
       "4       13.64       88.00       1.016  \n",
       "5        0.00       94.74       0.947  \n",
       "6        6.67       91.30       0.980  \n",
       "7        5.00       96.15       1.012  \n",
       "8       10.00       90.48       1.005  \n",
       "9        4.35       88.24       0.926  "
      ]
     },
     "execution_count": 71,
     "metadata": {},
     "output_type": "execute_result"
    }
   ],
   "source": [
    "SabresBeforeFinal = pf1.Sabres_Before_Data(DataFrameProcessed)\n",
    "SabresBeforeFinal"
   ]
  },
  {
   "cell_type": "code",
   "execution_count": 72,
   "metadata": {},
   "outputs": [
    {
     "data": {
      "text/html": [
       "<div>\n",
       "<style scoped>\n",
       "    .dataframe tbody tr th:only-of-type {\n",
       "        vertical-align: middle;\n",
       "    }\n",
       "\n",
       "    .dataframe tbody tr th {\n",
       "        vertical-align: top;\n",
       "    }\n",
       "\n",
       "    .dataframe thead th {\n",
       "        text-align: right;\n",
       "    }\n",
       "</style>\n",
       "<table border=\"1\" class=\"dataframe\">\n",
       "  <thead>\n",
       "    <tr style=\"text-align: right;\">\n",
       "      <th></th>\n",
       "      <th>index</th>\n",
       "      <th>Game</th>\n",
       "      <th>CF% After</th>\n",
       "      <th>SCF% After</th>\n",
       "      <th>SH% After</th>\n",
       "      <th>SV% After</th>\n",
       "      <th>PDO After</th>\n",
       "    </tr>\n",
       "  </thead>\n",
       "  <tbody>\n",
       "    <tr>\n",
       "      <th>0</th>\n",
       "      <td>10</td>\n",
       "      <td>2021-02-15 - Islanders 3, Sabres 1</td>\n",
       "      <td>44.05</td>\n",
       "      <td>37.93</td>\n",
       "      <td>0.00</td>\n",
       "      <td>92.00</td>\n",
       "      <td>0.920</td>\n",
       "    </tr>\n",
       "    <tr>\n",
       "      <th>1</th>\n",
       "      <td>11</td>\n",
       "      <td>2021-02-16 - Islanders 3, Sabres 0</td>\n",
       "      <td>57.14</td>\n",
       "      <td>54.76</td>\n",
       "      <td>0.00</td>\n",
       "      <td>89.47</td>\n",
       "      <td>0.895</td>\n",
       "    </tr>\n",
       "    <tr>\n",
       "      <th>2</th>\n",
       "      <td>12</td>\n",
       "      <td>2021-02-18 - Sabres 1, Capitals 3</td>\n",
       "      <td>48.78</td>\n",
       "      <td>44.74</td>\n",
       "      <td>0.00</td>\n",
       "      <td>94.12</td>\n",
       "      <td>0.941</td>\n",
       "    </tr>\n",
       "    <tr>\n",
       "      <th>3</th>\n",
       "      <td>13</td>\n",
       "      <td>2021-02-20 - Sabres 3, Devils 2</td>\n",
       "      <td>50.00</td>\n",
       "      <td>52.63</td>\n",
       "      <td>7.41</td>\n",
       "      <td>95.45</td>\n",
       "      <td>1.029</td>\n",
       "    </tr>\n",
       "    <tr>\n",
       "      <th>4</th>\n",
       "      <td>14</td>\n",
       "      <td>2021-02-22 - Sabres 2, Islanders 3</td>\n",
       "      <td>48.19</td>\n",
       "      <td>44.68</td>\n",
       "      <td>4.35</td>\n",
       "      <td>90.48</td>\n",
       "      <td>0.948</td>\n",
       "    </tr>\n",
       "    <tr>\n",
       "      <th>5</th>\n",
       "      <td>15</td>\n",
       "      <td>2021-02-23 - Sabres 4, Devils 1</td>\n",
       "      <td>47.12</td>\n",
       "      <td>53.06</td>\n",
       "      <td>6.25</td>\n",
       "      <td>100.00</td>\n",
       "      <td>1.063</td>\n",
       "    </tr>\n",
       "    <tr>\n",
       "      <th>6</th>\n",
       "      <td>16</td>\n",
       "      <td>2021-02-25 - Devils 4, Sabres 3</td>\n",
       "      <td>40.45</td>\n",
       "      <td>26.67</td>\n",
       "      <td>4.35</td>\n",
       "      <td>93.94</td>\n",
       "      <td>0.983</td>\n",
       "    </tr>\n",
       "    <tr>\n",
       "      <th>7</th>\n",
       "      <td>17</td>\n",
       "      <td>2021-02-27 - Flyers 3, Sabres 0</td>\n",
       "      <td>45.98</td>\n",
       "      <td>50.00</td>\n",
       "      <td>0.00</td>\n",
       "      <td>90.32</td>\n",
       "      <td>0.903</td>\n",
       "    </tr>\n",
       "    <tr>\n",
       "      <th>8</th>\n",
       "      <td>18</td>\n",
       "      <td>2021-02-28 - Flyers 3, Sabres 0</td>\n",
       "      <td>44.30</td>\n",
       "      <td>40.00</td>\n",
       "      <td>0.00</td>\n",
       "      <td>90.32</td>\n",
       "      <td>0.903</td>\n",
       "    </tr>\n",
       "    <tr>\n",
       "      <th>9</th>\n",
       "      <td>19</td>\n",
       "      <td>2021-03-02 - Sabres 2, Rangers 3</td>\n",
       "      <td>63.22</td>\n",
       "      <td>60.00</td>\n",
       "      <td>10.53</td>\n",
       "      <td>82.35</td>\n",
       "      <td>0.929</td>\n",
       "    </tr>\n",
       "  </tbody>\n",
       "</table>\n",
       "</div>"
      ],
      "text/plain": [
       "   index                                Game  CF% After  SCF% After  \\\n",
       "0     10  2021-02-15 - Islanders 3, Sabres 1      44.05       37.93   \n",
       "1     11  2021-02-16 - Islanders 3, Sabres 0      57.14       54.76   \n",
       "2     12   2021-02-18 - Sabres 1, Capitals 3      48.78       44.74   \n",
       "3     13     2021-02-20 - Sabres 3, Devils 2      50.00       52.63   \n",
       "4     14  2021-02-22 - Sabres 2, Islanders 3      48.19       44.68   \n",
       "5     15     2021-02-23 - Sabres 4, Devils 1      47.12       53.06   \n",
       "6     16     2021-02-25 - Devils 4, Sabres 3      40.45       26.67   \n",
       "7     17     2021-02-27 - Flyers 3, Sabres 0      45.98       50.00   \n",
       "8     18     2021-02-28 - Flyers 3, Sabres 0      44.30       40.00   \n",
       "9     19    2021-03-02 - Sabres 2, Rangers 3      63.22       60.00   \n",
       "\n",
       "   SH% After  SV% After  PDO After  \n",
       "0       0.00      92.00      0.920  \n",
       "1       0.00      89.47      0.895  \n",
       "2       0.00      94.12      0.941  \n",
       "3       7.41      95.45      1.029  \n",
       "4       4.35      90.48      0.948  \n",
       "5       6.25     100.00      1.063  \n",
       "6       4.35      93.94      0.983  \n",
       "7       0.00      90.32      0.903  \n",
       "8       0.00      90.32      0.903  \n",
       "9      10.53      82.35      0.929  "
      ]
     },
     "execution_count": 72,
     "metadata": {},
     "output_type": "execute_result"
    }
   ],
   "source": [
    "SabresAfterFinal = pf1.Sabres_After_Data(DataFrameProcessed)\n",
    "SabresAfterFinal"
   ]
  },
  {
   "cell_type": "code",
   "execution_count": 73,
   "metadata": {},
   "outputs": [
    {
     "data": {
      "text/html": [
       "<div>\n",
       "<style scoped>\n",
       "    .dataframe tbody tr th:only-of-type {\n",
       "        vertical-align: middle;\n",
       "    }\n",
       "\n",
       "    .dataframe tbody tr th {\n",
       "        vertical-align: top;\n",
       "    }\n",
       "\n",
       "    .dataframe thead th {\n",
       "        text-align: right;\n",
       "    }\n",
       "</style>\n",
       "<table border=\"1\" class=\"dataframe\">\n",
       "  <thead>\n",
       "    <tr style=\"text-align: right;\">\n",
       "      <th></th>\n",
       "      <th>Game</th>\n",
       "      <th>CF% Before</th>\n",
       "      <th>SCF% Before</th>\n",
       "      <th>SH% Before</th>\n",
       "      <th>SV% Before</th>\n",
       "      <th>PDO Before</th>\n",
       "      <th>Game</th>\n",
       "      <th>CF% After</th>\n",
       "      <th>SCF% After</th>\n",
       "      <th>SH% After</th>\n",
       "      <th>SV% After</th>\n",
       "      <th>PDO After</th>\n",
       "    </tr>\n",
       "  </thead>\n",
       "  <tbody>\n",
       "    <tr>\n",
       "      <th>0</th>\n",
       "      <td>2021-01-14 - Capitals 6, Sabres 4</td>\n",
       "      <td>51.47</td>\n",
       "      <td>55.17</td>\n",
       "      <td>10.53</td>\n",
       "      <td>80.95</td>\n",
       "      <td>0.915</td>\n",
       "      <td>2021-02-15 - Islanders 3, Sabres 1</td>\n",
       "      <td>44.05</td>\n",
       "      <td>37.93</td>\n",
       "      <td>0.00</td>\n",
       "      <td>92.00</td>\n",
       "      <td>0.920</td>\n",
       "    </tr>\n",
       "    <tr>\n",
       "      <th>1</th>\n",
       "      <td>2021-01-15 - Capitals 2, Sabres 1</td>\n",
       "      <td>51.43</td>\n",
       "      <td>55.56</td>\n",
       "      <td>4.55</td>\n",
       "      <td>90.48</td>\n",
       "      <td>0.950</td>\n",
       "      <td>2021-02-16 - Islanders 3, Sabres 0</td>\n",
       "      <td>57.14</td>\n",
       "      <td>54.76</td>\n",
       "      <td>0.00</td>\n",
       "      <td>89.47</td>\n",
       "      <td>0.895</td>\n",
       "    </tr>\n",
       "    <tr>\n",
       "      <th>2</th>\n",
       "      <td>2021-01-18 - Sabres 6, Flyers 1</td>\n",
       "      <td>49.00</td>\n",
       "      <td>54.55</td>\n",
       "      <td>12.90</td>\n",
       "      <td>95.24</td>\n",
       "      <td>1.081</td>\n",
       "      <td>2021-02-18 - Sabres 1, Capitals 3</td>\n",
       "      <td>48.78</td>\n",
       "      <td>44.74</td>\n",
       "      <td>0.00</td>\n",
       "      <td>94.12</td>\n",
       "      <td>0.941</td>\n",
       "    </tr>\n",
       "    <tr>\n",
       "      <th>3</th>\n",
       "      <td>2021-01-19 - Sabres 0, Flyers 3</td>\n",
       "      <td>59.38</td>\n",
       "      <td>58.14</td>\n",
       "      <td>0.00</td>\n",
       "      <td>91.67</td>\n",
       "      <td>0.917</td>\n",
       "      <td>2021-02-20 - Sabres 3, Devils 2</td>\n",
       "      <td>50.00</td>\n",
       "      <td>52.63</td>\n",
       "      <td>7.41</td>\n",
       "      <td>95.45</td>\n",
       "      <td>1.029</td>\n",
       "    </tr>\n",
       "    <tr>\n",
       "      <th>4</th>\n",
       "      <td>2021-01-22 - Sabres 3, Capitals 4</td>\n",
       "      <td>53.85</td>\n",
       "      <td>61.29</td>\n",
       "      <td>13.64</td>\n",
       "      <td>88.00</td>\n",
       "      <td>1.016</td>\n",
       "      <td>2021-02-22 - Sabres 2, Islanders 3</td>\n",
       "      <td>48.19</td>\n",
       "      <td>44.68</td>\n",
       "      <td>4.35</td>\n",
       "      <td>90.48</td>\n",
       "      <td>0.948</td>\n",
       "    </tr>\n",
       "    <tr>\n",
       "      <th>5</th>\n",
       "      <td>2021-01-24 - Sabres 4, Capitals 3</td>\n",
       "      <td>56.18</td>\n",
       "      <td>42.86</td>\n",
       "      <td>0.00</td>\n",
       "      <td>94.74</td>\n",
       "      <td>0.947</td>\n",
       "      <td>2021-02-23 - Sabres 4, Devils 1</td>\n",
       "      <td>47.12</td>\n",
       "      <td>53.06</td>\n",
       "      <td>6.25</td>\n",
       "      <td>100.00</td>\n",
       "      <td>1.063</td>\n",
       "    </tr>\n",
       "    <tr>\n",
       "      <th>6</th>\n",
       "      <td>2021-01-26 - Rangers 2, Sabres 3</td>\n",
       "      <td>50.79</td>\n",
       "      <td>63.33</td>\n",
       "      <td>6.67</td>\n",
       "      <td>91.30</td>\n",
       "      <td>0.980</td>\n",
       "      <td>2021-02-25 - Devils 4, Sabres 3</td>\n",
       "      <td>40.45</td>\n",
       "      <td>26.67</td>\n",
       "      <td>4.35</td>\n",
       "      <td>93.94</td>\n",
       "      <td>0.983</td>\n",
       "    </tr>\n",
       "    <tr>\n",
       "      <th>7</th>\n",
       "      <td>2021-01-28 - Rangers 3, Sabres 2</td>\n",
       "      <td>41.67</td>\n",
       "      <td>37.04</td>\n",
       "      <td>5.00</td>\n",
       "      <td>96.15</td>\n",
       "      <td>1.012</td>\n",
       "      <td>2021-02-27 - Flyers 3, Sabres 0</td>\n",
       "      <td>45.98</td>\n",
       "      <td>50.00</td>\n",
       "      <td>0.00</td>\n",
       "      <td>90.32</td>\n",
       "      <td>0.903</td>\n",
       "    </tr>\n",
       "    <tr>\n",
       "      <th>8</th>\n",
       "      <td>2021-01-30 - Devils 3, Sabres 4</td>\n",
       "      <td>49.32</td>\n",
       "      <td>51.72</td>\n",
       "      <td>10.00</td>\n",
       "      <td>90.48</td>\n",
       "      <td>1.005</td>\n",
       "      <td>2021-02-28 - Flyers 3, Sabres 0</td>\n",
       "      <td>44.30</td>\n",
       "      <td>40.00</td>\n",
       "      <td>0.00</td>\n",
       "      <td>90.32</td>\n",
       "      <td>0.903</td>\n",
       "    </tr>\n",
       "    <tr>\n",
       "      <th>9</th>\n",
       "      <td>2021-01-31 - Devils 5, Sabres 3</td>\n",
       "      <td>43.75</td>\n",
       "      <td>36.36</td>\n",
       "      <td>4.35</td>\n",
       "      <td>88.24</td>\n",
       "      <td>0.926</td>\n",
       "      <td>2021-03-02 - Sabres 2, Rangers 3</td>\n",
       "      <td>63.22</td>\n",
       "      <td>60.00</td>\n",
       "      <td>10.53</td>\n",
       "      <td>82.35</td>\n",
       "      <td>0.929</td>\n",
       "    </tr>\n",
       "  </tbody>\n",
       "</table>\n",
       "</div>"
      ],
      "text/plain": [
       "                                Game  CF% Before  SCF% Before  SH% Before  \\\n",
       "0  2021-01-14 - Capitals 6, Sabres 4       51.47        55.17       10.53   \n",
       "1  2021-01-15 - Capitals 2, Sabres 1       51.43        55.56        4.55   \n",
       "2    2021-01-18 - Sabres 6, Flyers 1       49.00        54.55       12.90   \n",
       "3    2021-01-19 - Sabres 0, Flyers 3       59.38        58.14        0.00   \n",
       "4  2021-01-22 - Sabres 3, Capitals 4       53.85        61.29       13.64   \n",
       "5  2021-01-24 - Sabres 4, Capitals 3       56.18        42.86        0.00   \n",
       "6   2021-01-26 - Rangers 2, Sabres 3       50.79        63.33        6.67   \n",
       "7   2021-01-28 - Rangers 3, Sabres 2       41.67        37.04        5.00   \n",
       "8    2021-01-30 - Devils 3, Sabres 4       49.32        51.72       10.00   \n",
       "9    2021-01-31 - Devils 5, Sabres 3       43.75        36.36        4.35   \n",
       "\n",
       "   SV% Before  PDO Before                                Game  CF% After  \\\n",
       "0       80.95       0.915  2021-02-15 - Islanders 3, Sabres 1      44.05   \n",
       "1       90.48       0.950  2021-02-16 - Islanders 3, Sabres 0      57.14   \n",
       "2       95.24       1.081   2021-02-18 - Sabres 1, Capitals 3      48.78   \n",
       "3       91.67       0.917     2021-02-20 - Sabres 3, Devils 2      50.00   \n",
       "4       88.00       1.016  2021-02-22 - Sabres 2, Islanders 3      48.19   \n",
       "5       94.74       0.947     2021-02-23 - Sabres 4, Devils 1      47.12   \n",
       "6       91.30       0.980     2021-02-25 - Devils 4, Sabres 3      40.45   \n",
       "7       96.15       1.012     2021-02-27 - Flyers 3, Sabres 0      45.98   \n",
       "8       90.48       1.005     2021-02-28 - Flyers 3, Sabres 0      44.30   \n",
       "9       88.24       0.926    2021-03-02 - Sabres 2, Rangers 3      63.22   \n",
       "\n",
       "   SCF% After  SH% After  SV% After  PDO After  \n",
       "0       37.93       0.00      92.00      0.920  \n",
       "1       54.76       0.00      89.47      0.895  \n",
       "2       44.74       0.00      94.12      0.941  \n",
       "3       52.63       7.41      95.45      1.029  \n",
       "4       44.68       4.35      90.48      0.948  \n",
       "5       53.06       6.25     100.00      1.063  \n",
       "6       26.67       4.35      93.94      0.983  \n",
       "7       50.00       0.00      90.32      0.903  \n",
       "8       40.00       0.00      90.32      0.903  \n",
       "9       60.00      10.53      82.35      0.929  "
      ]
     },
     "execution_count": 73,
     "metadata": {},
     "output_type": "execute_result"
    }
   ],
   "source": [
    "SabresBandA = pf1.Sabres_Before_After(DataFrameProcessed)\n",
    "SabresBandA"
   ]
  },
  {
   "cell_type": "code",
   "execution_count": 74,
   "metadata": {},
   "outputs": [
    {
     "data": {
      "text/html": [
       "<div>\n",
       "<style scoped>\n",
       "    .dataframe tbody tr th:only-of-type {\n",
       "        vertical-align: middle;\n",
       "    }\n",
       "\n",
       "    .dataframe tbody tr th {\n",
       "        vertical-align: top;\n",
       "    }\n",
       "\n",
       "    .dataframe thead th {\n",
       "        text-align: right;\n",
       "    }\n",
       "</style>\n",
       "<table border=\"1\" class=\"dataframe\">\n",
       "  <thead>\n",
       "    <tr style=\"text-align: right;\">\n",
       "      <th></th>\n",
       "      <th>count</th>\n",
       "      <th>mean</th>\n",
       "      <th>std</th>\n",
       "      <th>min</th>\n",
       "      <th>25%</th>\n",
       "      <th>50%</th>\n",
       "      <th>75%</th>\n",
       "      <th>max</th>\n",
       "    </tr>\n",
       "  </thead>\n",
       "  <tbody>\n",
       "    <tr>\n",
       "      <th>index</th>\n",
       "      <td>10.0</td>\n",
       "      <td>4.5000</td>\n",
       "      <td>3.027650</td>\n",
       "      <td>0.000</td>\n",
       "      <td>2.2500</td>\n",
       "      <td>4.500</td>\n",
       "      <td>6.75000</td>\n",
       "      <td>9.000</td>\n",
       "    </tr>\n",
       "    <tr>\n",
       "      <th>CF% Before</th>\n",
       "      <td>10.0</td>\n",
       "      <td>43.0680</td>\n",
       "      <td>8.428510</td>\n",
       "      <td>32.040</td>\n",
       "      <td>38.9050</td>\n",
       "      <td>41.415</td>\n",
       "      <td>46.64500</td>\n",
       "      <td>62.110</td>\n",
       "    </tr>\n",
       "    <tr>\n",
       "      <th>SCF% Before</th>\n",
       "      <td>10.0</td>\n",
       "      <td>39.5220</td>\n",
       "      <td>10.879249</td>\n",
       "      <td>22.920</td>\n",
       "      <td>38.1250</td>\n",
       "      <td>40.675</td>\n",
       "      <td>42.52250</td>\n",
       "      <td>62.220</td>\n",
       "    </tr>\n",
       "    <tr>\n",
       "      <th>SH% Before</th>\n",
       "      <td>10.0</td>\n",
       "      <td>6.2590</td>\n",
       "      <td>6.847584</td>\n",
       "      <td>0.000</td>\n",
       "      <td>0.7825</td>\n",
       "      <td>6.345</td>\n",
       "      <td>7.92250</td>\n",
       "      <td>23.080</td>\n",
       "    </tr>\n",
       "    <tr>\n",
       "      <th>SV% Before</th>\n",
       "      <td>10.0</td>\n",
       "      <td>94.1900</td>\n",
       "      <td>5.066779</td>\n",
       "      <td>85.710</td>\n",
       "      <td>91.2100</td>\n",
       "      <td>93.450</td>\n",
       "      <td>99.40500</td>\n",
       "      <td>100.000</td>\n",
       "    </tr>\n",
       "    <tr>\n",
       "      <th>PDO Before</th>\n",
       "      <td>10.0</td>\n",
       "      <td>1.0045</td>\n",
       "      <td>0.086846</td>\n",
       "      <td>0.857</td>\n",
       "      <td>0.9580</td>\n",
       "      <td>1.013</td>\n",
       "      <td>1.05225</td>\n",
       "      <td>1.143</td>\n",
       "    </tr>\n",
       "  </tbody>\n",
       "</table>\n",
       "</div>"
      ],
      "text/plain": [
       "             count     mean        std     min      25%     50%       75%  \\\n",
       "index         10.0   4.5000   3.027650   0.000   2.2500   4.500   6.75000   \n",
       "CF% Before    10.0  43.0680   8.428510  32.040  38.9050  41.415  46.64500   \n",
       "SCF% Before   10.0  39.5220  10.879249  22.920  38.1250  40.675  42.52250   \n",
       "SH% Before    10.0   6.2590   6.847584   0.000   0.7825   6.345   7.92250   \n",
       "SV% Before    10.0  94.1900   5.066779  85.710  91.2100  93.450  99.40500   \n",
       "PDO Before    10.0   1.0045   0.086846   0.857   0.9580   1.013   1.05225   \n",
       "\n",
       "                 max  \n",
       "index          9.000  \n",
       "CF% Before    62.110  \n",
       "SCF% Before   62.220  \n",
       "SH% Before    23.080  \n",
       "SV% Before   100.000  \n",
       "PDO Before     1.143  "
      ]
     },
     "execution_count": 74,
     "metadata": {},
     "output_type": "execute_result"
    }
   ],
   "source": [
    "CovidDescribeCBF = pf1.Describe(CanucksBeforeFinal)\n",
    "CovidDescribeCBF"
   ]
  },
  {
   "cell_type": "code",
   "execution_count": 75,
   "metadata": {},
   "outputs": [
    {
     "data": {
      "text/html": [
       "<div>\n",
       "<style scoped>\n",
       "    .dataframe tbody tr th:only-of-type {\n",
       "        vertical-align: middle;\n",
       "    }\n",
       "\n",
       "    .dataframe tbody tr th {\n",
       "        vertical-align: top;\n",
       "    }\n",
       "\n",
       "    .dataframe thead th {\n",
       "        text-align: right;\n",
       "    }\n",
       "</style>\n",
       "<table border=\"1\" class=\"dataframe\">\n",
       "  <thead>\n",
       "    <tr style=\"text-align: right;\">\n",
       "      <th></th>\n",
       "      <th>count</th>\n",
       "      <th>mean</th>\n",
       "      <th>std</th>\n",
       "      <th>min</th>\n",
       "      <th>25%</th>\n",
       "      <th>50%</th>\n",
       "      <th>75%</th>\n",
       "      <th>max</th>\n",
       "    </tr>\n",
       "  </thead>\n",
       "  <tbody>\n",
       "    <tr>\n",
       "      <th>index</th>\n",
       "      <td>10.0</td>\n",
       "      <td>14.5000</td>\n",
       "      <td>3.027650</td>\n",
       "      <td>10.000</td>\n",
       "      <td>12.2500</td>\n",
       "      <td>14.5000</td>\n",
       "      <td>16.75000</td>\n",
       "      <td>19.00</td>\n",
       "    </tr>\n",
       "    <tr>\n",
       "      <th>CF% After</th>\n",
       "      <td>10.0</td>\n",
       "      <td>45.5760</td>\n",
       "      <td>6.963981</td>\n",
       "      <td>35.870</td>\n",
       "      <td>40.7975</td>\n",
       "      <td>43.3000</td>\n",
       "      <td>49.96750</td>\n",
       "      <td>59.26</td>\n",
       "    </tr>\n",
       "    <tr>\n",
       "      <th>SCF% After</th>\n",
       "      <td>10.0</td>\n",
       "      <td>39.4630</td>\n",
       "      <td>8.669128</td>\n",
       "      <td>28.950</td>\n",
       "      <td>32.6550</td>\n",
       "      <td>38.6250</td>\n",
       "      <td>45.08750</td>\n",
       "      <td>55.00</td>\n",
       "    </tr>\n",
       "    <tr>\n",
       "      <th>SH% After</th>\n",
       "      <td>10.0</td>\n",
       "      <td>7.7320</td>\n",
       "      <td>6.039851</td>\n",
       "      <td>0.000</td>\n",
       "      <td>4.4000</td>\n",
       "      <td>6.6250</td>\n",
       "      <td>11.87500</td>\n",
       "      <td>16.67</td>\n",
       "    </tr>\n",
       "    <tr>\n",
       "      <th>SV% After</th>\n",
       "      <td>10.0</td>\n",
       "      <td>90.2900</td>\n",
       "      <td>6.125335</td>\n",
       "      <td>81.480</td>\n",
       "      <td>86.4325</td>\n",
       "      <td>89.6850</td>\n",
       "      <td>95.49500</td>\n",
       "      <td>100.00</td>\n",
       "    </tr>\n",
       "    <tr>\n",
       "      <th>PDO After</th>\n",
       "      <td>10.0</td>\n",
       "      <td>0.9802</td>\n",
       "      <td>0.084377</td>\n",
       "      <td>0.833</td>\n",
       "      <td>0.9530</td>\n",
       "      <td>0.9735</td>\n",
       "      <td>0.99525</td>\n",
       "      <td>1.13</td>\n",
       "    </tr>\n",
       "  </tbody>\n",
       "</table>\n",
       "</div>"
      ],
      "text/plain": [
       "            count     mean       std     min      25%      50%       75%  \\\n",
       "index        10.0  14.5000  3.027650  10.000  12.2500  14.5000  16.75000   \n",
       "CF% After    10.0  45.5760  6.963981  35.870  40.7975  43.3000  49.96750   \n",
       "SCF% After   10.0  39.4630  8.669128  28.950  32.6550  38.6250  45.08750   \n",
       "SH% After    10.0   7.7320  6.039851   0.000   4.4000   6.6250  11.87500   \n",
       "SV% After    10.0  90.2900  6.125335  81.480  86.4325  89.6850  95.49500   \n",
       "PDO After    10.0   0.9802  0.084377   0.833   0.9530   0.9735   0.99525   \n",
       "\n",
       "               max  \n",
       "index        19.00  \n",
       "CF% After    59.26  \n",
       "SCF% After   55.00  \n",
       "SH% After    16.67  \n",
       "SV% After   100.00  \n",
       "PDO After     1.13  "
      ]
     },
     "execution_count": 75,
     "metadata": {},
     "output_type": "execute_result"
    }
   ],
   "source": [
    "CovidDescribeCAF = pf1.Describe(CanucksAfterFinal)\n",
    "CovidDescribeCAF"
   ]
  },
  {
   "cell_type": "code",
   "execution_count": 76,
   "metadata": {},
   "outputs": [
    {
     "data": {
      "text/html": [
       "<div>\n",
       "<style scoped>\n",
       "    .dataframe tbody tr th:only-of-type {\n",
       "        vertical-align: middle;\n",
       "    }\n",
       "\n",
       "    .dataframe tbody tr th {\n",
       "        vertical-align: top;\n",
       "    }\n",
       "\n",
       "    .dataframe thead th {\n",
       "        text-align: right;\n",
       "    }\n",
       "</style>\n",
       "<table border=\"1\" class=\"dataframe\">\n",
       "  <thead>\n",
       "    <tr style=\"text-align: right;\">\n",
       "      <th></th>\n",
       "      <th>count</th>\n",
       "      <th>mean</th>\n",
       "      <th>std</th>\n",
       "      <th>min</th>\n",
       "      <th>25%</th>\n",
       "      <th>50%</th>\n",
       "      <th>75%</th>\n",
       "      <th>max</th>\n",
       "    </tr>\n",
       "  </thead>\n",
       "  <tbody>\n",
       "    <tr>\n",
       "      <th>index</th>\n",
       "      <td>10.0</td>\n",
       "      <td>4.5000</td>\n",
       "      <td>3.027650</td>\n",
       "      <td>0.000</td>\n",
       "      <td>2.25000</td>\n",
       "      <td>4.500</td>\n",
       "      <td>6.75000</td>\n",
       "      <td>9.000</td>\n",
       "    </tr>\n",
       "    <tr>\n",
       "      <th>CF% Before</th>\n",
       "      <td>10.0</td>\n",
       "      <td>50.6840</td>\n",
       "      <td>5.281671</td>\n",
       "      <td>41.670</td>\n",
       "      <td>49.08000</td>\n",
       "      <td>51.110</td>\n",
       "      <td>53.25500</td>\n",
       "      <td>59.380</td>\n",
       "    </tr>\n",
       "    <tr>\n",
       "      <th>SCF% Before</th>\n",
       "      <td>10.0</td>\n",
       "      <td>51.6020</td>\n",
       "      <td>9.615050</td>\n",
       "      <td>36.360</td>\n",
       "      <td>45.07500</td>\n",
       "      <td>54.860</td>\n",
       "      <td>57.49500</td>\n",
       "      <td>63.330</td>\n",
       "    </tr>\n",
       "    <tr>\n",
       "      <th>SH% Before</th>\n",
       "      <td>10.0</td>\n",
       "      <td>6.7640</td>\n",
       "      <td>4.886915</td>\n",
       "      <td>0.000</td>\n",
       "      <td>4.40000</td>\n",
       "      <td>5.835</td>\n",
       "      <td>10.39750</td>\n",
       "      <td>13.640</td>\n",
       "    </tr>\n",
       "    <tr>\n",
       "      <th>SV% Before</th>\n",
       "      <td>10.0</td>\n",
       "      <td>90.7250</td>\n",
       "      <td>4.427581</td>\n",
       "      <td>80.950</td>\n",
       "      <td>88.80000</td>\n",
       "      <td>90.890</td>\n",
       "      <td>93.97250</td>\n",
       "      <td>96.150</td>\n",
       "    </tr>\n",
       "    <tr>\n",
       "      <th>PDO Before</th>\n",
       "      <td>10.0</td>\n",
       "      <td>0.9749</td>\n",
       "      <td>0.053733</td>\n",
       "      <td>0.915</td>\n",
       "      <td>0.93125</td>\n",
       "      <td>0.965</td>\n",
       "      <td>1.01025</td>\n",
       "      <td>1.081</td>\n",
       "    </tr>\n",
       "  </tbody>\n",
       "</table>\n",
       "</div>"
      ],
      "text/plain": [
       "             count     mean       std     min       25%     50%       75%  \\\n",
       "index         10.0   4.5000  3.027650   0.000   2.25000   4.500   6.75000   \n",
       "CF% Before    10.0  50.6840  5.281671  41.670  49.08000  51.110  53.25500   \n",
       "SCF% Before   10.0  51.6020  9.615050  36.360  45.07500  54.860  57.49500   \n",
       "SH% Before    10.0   6.7640  4.886915   0.000   4.40000   5.835  10.39750   \n",
       "SV% Before    10.0  90.7250  4.427581  80.950  88.80000  90.890  93.97250   \n",
       "PDO Before    10.0   0.9749  0.053733   0.915   0.93125   0.965   1.01025   \n",
       "\n",
       "                max  \n",
       "index         9.000  \n",
       "CF% Before   59.380  \n",
       "SCF% Before  63.330  \n",
       "SH% Before   13.640  \n",
       "SV% Before   96.150  \n",
       "PDO Before    1.081  "
      ]
     },
     "execution_count": 76,
     "metadata": {},
     "output_type": "execute_result"
    }
   ],
   "source": [
    "CovidDescribeSBF = pf1.Describe(SabresBeforeFinal)\n",
    "CovidDescribeSBF"
   ]
  },
  {
   "cell_type": "code",
   "execution_count": 77,
   "metadata": {},
   "outputs": [
    {
     "data": {
      "text/html": [
       "<div>\n",
       "<style scoped>\n",
       "    .dataframe tbody tr th:only-of-type {\n",
       "        vertical-align: middle;\n",
       "    }\n",
       "\n",
       "    .dataframe tbody tr th {\n",
       "        vertical-align: top;\n",
       "    }\n",
       "\n",
       "    .dataframe thead th {\n",
       "        text-align: right;\n",
       "    }\n",
       "</style>\n",
       "<table border=\"1\" class=\"dataframe\">\n",
       "  <thead>\n",
       "    <tr style=\"text-align: right;\">\n",
       "      <th></th>\n",
       "      <th>count</th>\n",
       "      <th>mean</th>\n",
       "      <th>std</th>\n",
       "      <th>min</th>\n",
       "      <th>25%</th>\n",
       "      <th>50%</th>\n",
       "      <th>75%</th>\n",
       "      <th>max</th>\n",
       "    </tr>\n",
       "  </thead>\n",
       "  <tbody>\n",
       "    <tr>\n",
       "      <th>index</th>\n",
       "      <td>10.0</td>\n",
       "      <td>14.5000</td>\n",
       "      <td>3.027650</td>\n",
       "      <td>10.000</td>\n",
       "      <td>12.25000</td>\n",
       "      <td>14.500</td>\n",
       "      <td>16.75000</td>\n",
       "      <td>19.000</td>\n",
       "    </tr>\n",
       "    <tr>\n",
       "      <th>CF% After</th>\n",
       "      <td>10.0</td>\n",
       "      <td>48.9230</td>\n",
       "      <td>6.687160</td>\n",
       "      <td>40.450</td>\n",
       "      <td>44.72000</td>\n",
       "      <td>47.655</td>\n",
       "      <td>49.69500</td>\n",
       "      <td>63.220</td>\n",
       "    </tr>\n",
       "    <tr>\n",
       "      <th>SCF% After</th>\n",
       "      <td>10.0</td>\n",
       "      <td>46.4470</td>\n",
       "      <td>9.767542</td>\n",
       "      <td>26.670</td>\n",
       "      <td>41.17000</td>\n",
       "      <td>47.370</td>\n",
       "      <td>52.95250</td>\n",
       "      <td>60.000</td>\n",
       "    </tr>\n",
       "    <tr>\n",
       "      <th>SH% After</th>\n",
       "      <td>10.0</td>\n",
       "      <td>3.2890</td>\n",
       "      <td>3.866110</td>\n",
       "      <td>0.000</td>\n",
       "      <td>0.00000</td>\n",
       "      <td>2.175</td>\n",
       "      <td>5.77500</td>\n",
       "      <td>10.530</td>\n",
       "    </tr>\n",
       "    <tr>\n",
       "      <th>SV% After</th>\n",
       "      <td>10.0</td>\n",
       "      <td>91.8450</td>\n",
       "      <td>4.611566</td>\n",
       "      <td>82.350</td>\n",
       "      <td>90.32000</td>\n",
       "      <td>91.240</td>\n",
       "      <td>94.07500</td>\n",
       "      <td>100.000</td>\n",
       "    </tr>\n",
       "    <tr>\n",
       "      <th>PDO After</th>\n",
       "      <td>10.0</td>\n",
       "      <td>0.9514</td>\n",
       "      <td>0.056714</td>\n",
       "      <td>0.895</td>\n",
       "      <td>0.90725</td>\n",
       "      <td>0.935</td>\n",
       "      <td>0.97425</td>\n",
       "      <td>1.063</td>\n",
       "    </tr>\n",
       "  </tbody>\n",
       "</table>\n",
       "</div>"
      ],
      "text/plain": [
       "            count     mean       std     min       25%     50%       75%  \\\n",
       "index        10.0  14.5000  3.027650  10.000  12.25000  14.500  16.75000   \n",
       "CF% After    10.0  48.9230  6.687160  40.450  44.72000  47.655  49.69500   \n",
       "SCF% After   10.0  46.4470  9.767542  26.670  41.17000  47.370  52.95250   \n",
       "SH% After    10.0   3.2890  3.866110   0.000   0.00000   2.175   5.77500   \n",
       "SV% After    10.0  91.8450  4.611566  82.350  90.32000  91.240  94.07500   \n",
       "PDO After    10.0   0.9514  0.056714   0.895   0.90725   0.935   0.97425   \n",
       "\n",
       "                max  \n",
       "index        19.000  \n",
       "CF% After    63.220  \n",
       "SCF% After   60.000  \n",
       "SH% After    10.530  \n",
       "SV% After   100.000  \n",
       "PDO After     1.063  "
      ]
     },
     "execution_count": 77,
     "metadata": {},
     "output_type": "execute_result"
    }
   ],
   "source": [
    "CovidDescribeSAF = pf1.Describe(SabresAfterFinal)\n",
    "CovidDescribeSAF"
   ]
  },
  {
   "cell_type": "markdown",
   "metadata": {},
   "source": [
    "# Task 4"
   ]
  },
  {
   "cell_type": "markdown",
   "metadata": {},
   "source": [
    "## Analysis To Answer Research Question:"
   ]
  },
  {
   "cell_type": "markdown",
   "metadata": {},
   "source": [
    "### Vancouver Canucks Before and After Covid-19 Outbreak:"
   ]
  },
  {
   "cell_type": "markdown",
   "metadata": {},
   "source": [
    "#### Vancouver Canucks Visuals:\n",
    "The Vancouver Canucks had 24 days off between games due to their Covid-19 outbreak. From the data, it is clear that the team didn’t play well due to their time off. This will be decided by looking at 5v5 statistics and visulatizations of the variables for CF% (corsi percentage), SCF% (scoring chances for percentage), SH% (shooting percentage), SV% (save percentage), and PDO (SH% vs. SV%). The bar chart below gives a genral idea of the statistics before and after the outbreak. *I will be trying to create a nice bar chart for my final visualization with a secondary y-axid for PDO*."
   ]
  },
  {
   "cell_type": "code",
   "execution_count": 85,
   "metadata": {},
   "outputs": [
    {
     "data": {
      "text/plain": [
       "<AxesSubplot:>"
      ]
     },
     "execution_count": 85,
     "metadata": {},
     "output_type": "execute_result"
    },
    {
     "data": {
      "image/png": "[encoded data removed]",
      "text/plain": [
       "<Figure size 432x288 with 1 Axes>"
      ]
     },
     "metadata": {
      "needs_background": "light"
     },
     "output_type": "display_data"
    }
   ],
   "source": [
    "FCBandA1.mean().plot(kind='bar')"
   ]
  },
  {
   "cell_type": "markdown",
   "metadata": {},
   "source": [
    "#### CF% (Corsi):\n",
    "CF% (corsi) is used to evaluate the teams puck possession on the ice in a 5v5 setting. It is calculated by the teams total sum of shots on goal, missed shots, and blocked shots over the shots against, missed shots against and blocked shots against. The average rank of corsi is 40 to 60%. A team/player ranked above 55% is considered elite or very good. Vancouver’s CF% has seemed to increase after their 24 days off with their CF% increasing 2.5% from 43.1% to 45.6%. Vancouver doesn’t have a very high ranked coris to begin with, but does have one high outlier at 62.11% before the outbreak. What this statistic is telling us is that the Canucks had more time of possesion with the puck that resulted in more shots towrads the opponents net. This probably has to do with having more time off for rest compared to the other teams they are playing. Their CF% does seem to gain more variance and contain a larger range of values after the outbreak. This is most likely the case from having too much time off, not enough practise, and being out of their rythem on the ice."
   ]
  },
  {
   "cell_type": "code",
   "execution_count": 29,
   "metadata": {},
   "outputs": [
    {
     "data": {
      "text/plain": [
       "<AxesSubplot:>"
      ]
     },
     "execution_count": 29,
     "metadata": {},
     "output_type": "execute_result"
    },
    {
     "data": {
      "image/png": "[encoded data removed]",
      "text/plain": [
       "<Figure size 432x288 with 1 Axes>"
      ]
     },
     "metadata": {
      "needs_background": "light"
     },
     "output_type": "display_data"
    }
   ],
   "source": [
    "CanucksBandA.boxplot(['CF% Before','CF% After'])"
   ]
  },
  {
   "cell_type": "code",
   "execution_count": 83,
   "metadata": {},
   "outputs": [
    {
     "data": {
      "text/plain": [
       "<seaborn.axisgrid.JointGrid at 0x13e2d0970>"
      ]
     },
     "execution_count": 83,
     "metadata": {},
     "output_type": "execute_result"
    },
    {
     "data": {
      "image/png": "[encoded data removed]",
      "text/plain": [
       "<Figure size 432x432 with 3 Axes>"
      ]
     },
     "metadata": {
      "needs_background": "light"
     },
     "output_type": "display_data"
    }
   ],
   "source": [
    "sns.jointplot(data=FinalCovidDataFrame, x='Canucks CF% Before', y='Canucks CF% After', kind='hex')"
   ]
  },
  {
   "cell_type": "markdown",
   "metadata": {},
   "source": [
    "#### SCF% (Scoring Chances For Percentage):\n",
    "SCF% (scoring chances for percentage)  is a percentage of total scoring chances in games that team played for that team. It takes into account the rate of scoring chances for and against at 60 minutes time on ice. It allows us to determine a teams overall puck possesion, becuse the more time you have with the puck, the more scoring oppertunities you'll have. Vancouver’s SCF% fell after their outbreak but not by much (.1 0f a %). There is a larger range of values after their outbreak compared to before and much more outliers exist before the outbreak. This means that the Canucks were seeing a higher rate of scoring chnaces after the outbreak rather than before. Again, this is most likely the case due to the team having such a long period of time off the ice. "
   ]
  },
  {
   "cell_type": "code",
   "execution_count": 30,
   "metadata": {},
   "outputs": [
    {
     "data": {
      "text/plain": [
       "<AxesSubplot:>"
      ]
     },
     "execution_count": 30,
     "metadata": {},
     "output_type": "execute_result"
    },
    {
     "data": {
      "image/png": "[encoded data removed]",
      "text/plain": [
       "<Figure size 432x288 with 1 Axes>"
      ]
     },
     "metadata": {
      "needs_background": "light"
     },
     "output_type": "display_data"
    }
   ],
   "source": [
    "CanucksBandA.boxplot(['SCF% Before','SCF% After'])"
   ]
  },
  {
   "cell_type": "code",
   "execution_count": 93,
   "metadata": {},
   "outputs": [
    {
     "data": {
      "text/plain": [
       "<seaborn.axisgrid.JointGrid at 0x13fe713d0>"
      ]
     },
     "execution_count": 93,
     "metadata": {},
     "output_type": "execute_result"
    },
    {
     "data": {
      "image/png": "[encoded data removed]",
      "text/plain": [
       "<Figure size 432x432 with 3 Axes>"
      ]
     },
     "metadata": {
      "needs_background": "light"
     },
     "output_type": "display_data"
    }
   ],
   "source": [
    "sns.jointplot(data=FinalCovidDataFrame, x=\"Canucks SCF% Before\", y=\"Canucks SCF% After\", kind=\"reg\")"
   ]
  },
  {
   "cell_type": "markdown",
   "metadata": {},
   "source": [
    "#### SH% (Shooting Percentage):\n",
    "SH% (shooting percentage) allows us to measure if a team's shots on goal results in goals and determines if a team is scoring. The Vancouver Canucks saw a slight increase in shooting percentage after the outbreak of 1.4% from 6.3% to 7.7%. A larger range of values is also present after the outbreak as well. This is likely caused from the long time off, resulting in games were they are scoring more or less than usual. The one outlier on the SH% Before box plot was the game between the Canucks and Canadians were the Canucks were scoring at a crazy rate, resulting in a SH% of 23.1%. This box plot shows that Vancouver was scoring more on average after the outbreak, but was less consistent at doing so."
   ]
  },
  {
   "cell_type": "code",
   "execution_count": 31,
   "metadata": {},
   "outputs": [
    {
     "data": {
      "text/plain": [
       "<AxesSubplot:>"
      ]
     },
     "execution_count": 31,
     "metadata": {},
     "output_type": "execute_result"
    },
    {
     "data": {
      "image/png": "[encoded data removed]",
      "text/plain": [
       "<Figure size 432x288 with 1 Axes>"
      ]
     },
     "metadata": {
      "needs_background": "light"
     },
     "output_type": "display_data"
    }
   ],
   "source": [
    "CanucksBandA.boxplot(['SH% Before','SH% After'])"
   ]
  },
  {
   "cell_type": "code",
   "execution_count": 94,
   "metadata": {},
   "outputs": [
    {
     "data": {
      "text/plain": [
       "<seaborn.axisgrid.JointGrid at 0x13fff70d0>"
      ]
     },
     "execution_count": 94,
     "metadata": {},
     "output_type": "execute_result"
    },
    {
     "data": {
      "image/png": "[encoded data removed]",
      "text/plain": [
       "<Figure size 432x432 with 3 Axes>"
      ]
     },
     "metadata": {
      "needs_background": "light"
     },
     "output_type": "display_data"
    }
   ],
   "source": [
    "sns.jointplot(\n",
    "    data=FinalCovidDataFrame, x=\"Canucks SH% Before\", y=\"Canucks SH% After\",\n",
    "    marker=\"+\", s=100, marginal_kws=dict(bins=25, fill=False),\n",
    ")"
   ]
  },
  {
   "cell_type": "markdown",
   "metadata": {
    "tags": []
   },
   "source": [
    "#### SV% (Save Percentage):\n",
    "SV% (save percentage) helps determine the play in net by analyzing the number of shots on goal a goaltender can save. This one caught me off guard a bit because I was not expecting such a drop off in save percentage. I drop in save percentage was 3.9% from 94.% before and 90.3% after. This may not seem like a large drop but in this statistic that is a drastic regression. This shows that the Canucks were getting scored on more after the outbreak rather than before. This could stem past just goaltending as well to how the team is playing in front of the goaltender. There is also more range in values after the outbreak than before. Just to clarify, some values sitting at 100% means that no goals were scored (called shutouts). This is an interesting visual because I assumed the goaltending would have been better with all the time off, but I guess that maybe too much time off can hurt you SV% stats. I guess that makes sense because if a goalie doesn’t see a large volume of shots in a game, he is more likely going to be scored on for being “cold” and not warmed up. The Canucks also had a young goaltender in net that goes by the name Thatcher Demko, who was playing in first full NHL regular season.  "
   ]
  },
  {
   "cell_type": "code",
   "execution_count": 32,
   "metadata": {},
   "outputs": [
    {
     "data": {
      "text/plain": [
       "<AxesSubplot:>"
      ]
     },
     "execution_count": 32,
     "metadata": {},
     "output_type": "execute_result"
    },
    {
     "data": {
      "image/png": "[encoded data removed]",
      "text/plain": [
       "<Figure size 432x288 with 1 Axes>"
      ]
     },
     "metadata": {
      "needs_background": "light"
     },
     "output_type": "display_data"
    }
   ],
   "source": [
    "CanucksBandA.boxplot(['SV% Before','SV% After'])"
   ]
  },
  {
   "cell_type": "code",
   "execution_count": 89,
   "metadata": {},
   "outputs": [
    {
     "data": {
      "text/plain": [
       "<seaborn.axisgrid.JointGrid at 0x13f3185b0>"
      ]
     },
     "execution_count": 89,
     "metadata": {},
     "output_type": "execute_result"
    },
    {
     "data": {
      "image/png": "[encoded data removed]",
      "text/plain": [
       "<Figure size 432x432 with 3 Axes>"
      ]
     },
     "metadata": {
      "needs_background": "light"
     },
     "output_type": "display_data"
    }
   ],
   "source": [
    "g = sns.jointplot(data=FinalCovidDataFrame, x=\"Canucks SV% Before\", y=\"Canucks SV% After\")\n",
    "g.plot_joint(sns.kdeplot, color=\"r\", zorder=0, levels=6)\n",
    "g.plot_marginals(sns.rugplot, color=\"r\", height=-.15, clip_on=False)"
   ]
  },
  {
   "cell_type": "markdown",
   "metadata": {},
   "source": [
    "#### PDO:\n",
    "PDO is the sum of a team's shooting percentage and its save percentage. The sum is then multiplied by ten and that total is the teams PDO. PDO is often viewed as a proxy for how lucky a team is. A PDO over 102 is “probably not as good as they seem”, while a team below 98 is likely better than they appear. The Canucks had a PDO of 1.0 before the outbreak and a 0.98 after the outbreak. This means that the Canucks were likely better than they appeared after the outbreak. This is such a cool statistics to look at because it can actually determine a teams play, which will help with this analysis greatly. I assumed the Canucks would have played worse after the outbreak rather than before. It’s important to note that the overall score of the game doesn’t determine how a team played as a whole. Luck is massively involved in the game of hockey and can make people believe things that aren’t completely true. The Canucks won 6 games in the in their 10 games before the outbreak and only won 3 games in their 10 games afterwards. But what the PDO is telling us is that the team played better statistically after the outbreak, but the final score of those games and record wouldn’t be able to tell you that."
   ]
  },
  {
   "cell_type": "code",
   "execution_count": 33,
   "metadata": {},
   "outputs": [
    {
     "data": {
      "text/plain": [
       "<AxesSubplot:>"
      ]
     },
     "execution_count": 33,
     "metadata": {},
     "output_type": "execute_result"
    },
    {
     "data": {
      "image/png": "[encoded data removed]",
      "text/plain": [
       "<Figure size 432x288 with 1 Axes>"
      ]
     },
     "metadata": {
      "needs_background": "light"
     },
     "output_type": "display_data"
    }
   ],
   "source": [
    "CanucksBandA.boxplot(['PDO Before','PDO After'])"
   ]
  },
  {
   "cell_type": "code",
   "execution_count": 84,
   "metadata": {},
   "outputs": [
    {
     "name": "stderr",
     "output_type": "stream",
     "text": [
      "/opt/miniconda3/lib/python3.9/site-packages/seaborn/_decorators.py:36: FutureWarning: Pass the following variable as a keyword arg: x. From version 0.12, the only valid positional argument will be `data`, and passing other arguments without an explicit keyword will result in an error or misinterpretation.\n",
      "  warnings.warn(\n"
     ]
    },
    {
     "data": {
      "text/plain": [
       "(array([0, 1, 2, 3, 4, 5, 6, 7, 8]),\n",
       " [Text(0, 0, '0.857'),\n",
       "  Text(1, 0, '0.892'),\n",
       "  Text(2, 0, '0.944'),\n",
       "  Text(3, 0, '1.0'),\n",
       "  Text(4, 0, '1.026'),\n",
       "  Text(5, 0, '1.05'),\n",
       "  Text(6, 0, '1.053'),\n",
       "  Text(7, 0, '1.08'),\n",
       "  Text(8, 0, '1.143')])"
      ]
     },
     "execution_count": 84,
     "metadata": {},
     "output_type": "execute_result"
    },
    {
     "data": {
      "image/png": "[encoded data removed]",
      "text/plain": [
       "<Figure size 864x360 with 1 Axes>"
      ]
     },
     "metadata": {
      "needs_background": "light"
     },
     "output_type": "display_data"
    }
   ],
   "source": [
    "plt.figure(figsize=(12,5))\n",
    "sns.countplot(FinalCovidDataFrame['Canucks PDO Before'])\n",
    "plt.xticks(fontsize=8)"
   ]
  },
  {
   "cell_type": "markdown",
   "metadata": {},
   "source": [
    "### Buffalo Sabres Before and After Covid-19 Outbreak:"
   ]
  },
  {
   "cell_type": "markdown",
   "metadata": {},
   "source": [
    "#### Buffalo Sabres Visuals:\n",
    "The Buffalo Sabres had 14 days off between games due to their Covid-19 outbreak. From the data, it is clear that the team didn’t play well due to their time off. This will be decided by looking at the 5v5 statistics and visulatizations of the variables for CF% (corsi percentage), SCF% (scoring chances for percentage), SH% (shooting percentage), SV% (save percentage), and PDO (SH% vs. SV%). The bar chart below gives a genral idea of the statistics before and after the outbreak. *I will be trying to create a nice bar chart for my final visualization with a secondary y-axid for PDO*."
   ]
  },
  {
   "cell_type": "code",
   "execution_count": 86,
   "metadata": {},
   "outputs": [
    {
     "data": {
      "text/plain": [
       "<AxesSubplot:>"
      ]
     },
     "execution_count": 86,
     "metadata": {},
     "output_type": "execute_result"
    },
    {
     "data": {
      "image/png": "[encoded data removed]",
      "text/plain": [
       "<Figure size 432x288 with 1 Axes>"
      ]
     },
     "metadata": {
      "needs_background": "light"
     },
     "output_type": "display_data"
    }
   ],
   "source": [
    "FSBandA1.mean().plot(kind='bar')"
   ]
  },
  {
   "cell_type": "markdown",
   "metadata": {},
   "source": [
    "#### CF% (Corsi):\n",
    "CF% (corsi) is used to evaluate the teams puck possession on the ice in a 5v5 setting. It is calculated by the teams total sum of shots on goal, missed shots, and blocked shots over the shots against, missed shots against and blocked shots against. The average rank of corsi is 40 to 60%. A team/player ranked above 55% is considered elite or very good. The Buffalo Sabres CF% dropped 1.7% from 50.7% before and 49% after the outbreak. This means the Sabres saw more shot attempts directed at them after their outbreak. This shows that the team was not playing as good after their outbreak. The range of values doesn’t seem to change as much as well for the play before and after. However, they did seem to have some games with higher CF% after, but the average CF% is brought down by some lower valued CF% games. I expected the Sabres to have a lower CF% as they are a poorly managed and coached team. I did expect the CF% to be lower, but it wasn’t that drastic of a change."
   ]
  },
  {
   "cell_type": "code",
   "execution_count": 38,
   "metadata": {},
   "outputs": [
    {
     "data": {
      "text/plain": [
       "<AxesSubplot:>"
      ]
     },
     "execution_count": 38,
     "metadata": {},
     "output_type": "execute_result"
    },
    {
     "data": {
      "image/png": "[encoded data removed]",
      "text/plain": [
       "<Figure size 432x288 with 1 Axes>"
      ]
     },
     "metadata": {
      "needs_background": "light"
     },
     "output_type": "display_data"
    }
   ],
   "source": [
    "SabresBandA.boxplot(['CF% Before','CF% After'])"
   ]
  },
  {
   "cell_type": "code",
   "execution_count": 91,
   "metadata": {},
   "outputs": [
    {
     "name": "stderr",
     "output_type": "stream",
     "text": [
      "/opt/miniconda3/lib/python3.9/site-packages/seaborn/_decorators.py:36: FutureWarning: Pass the following variable as a keyword arg: x. From version 0.12, the only valid positional argument will be `data`, and passing other arguments without an explicit keyword will result in an error or misinterpretation.\n",
      "  warnings.warn(\n"
     ]
    },
    {
     "data": {
      "text/plain": [
       "(array([0, 1, 2, 3, 4, 5, 6, 7, 8, 9]),\n",
       " [Text(0, 0, '40.45'),\n",
       "  Text(1, 0, '44.05'),\n",
       "  Text(2, 0, '44.3'),\n",
       "  Text(3, 0, '45.98'),\n",
       "  Text(4, 0, '47.12'),\n",
       "  Text(5, 0, '48.19'),\n",
       "  Text(6, 0, '48.78'),\n",
       "  Text(7, 0, '50.0'),\n",
       "  Text(8, 0, '57.14'),\n",
       "  Text(9, 0, '63.22')])"
      ]
     },
     "execution_count": 91,
     "metadata": {},
     "output_type": "execute_result"
    },
    {
     "data": {
      "image/png": "[encoded data removed]",
      "text/plain": [
       "<Figure size 864x360 with 1 Axes>"
      ]
     },
     "metadata": {
      "needs_background": "light"
     },
     "output_type": "display_data"
    }
   ],
   "source": [
    "plt.figure(figsize=(12,5))\n",
    "sns.countplot(FinalCovidDataFrame['Sabres CF% After'])\n",
    "plt.xticks(fontsize=8)"
   ]
  },
  {
   "cell_type": "markdown",
   "metadata": {},
   "source": [
    "#### SCF% (Scoring Chances For Percentage):\n",
    "SCF% (scoring chances for percentage)  is a percentage of total scoring chances in games that team played for that team. It takes into account the rate of scoring chances for and against at 60 minutes time on ice. It allows us to determine a teams overall puck possesion, becuse the more time you have with the puck, the more scoring oppertunities you'll have. The Sabres have a lower SCF% after their outbreak compared to before. It dropped a drastic 5.1% from 51.6% before to 46.5% after the outbreak. This means the team saw less scoring opportunities, which makes sense as the CF% dropped showing they lost time with the puck, resulting in less shots on net. I expected there to be quite a drop off like this as the team was already struggling in their first 10 games before the outbreak. On the boxplot, there is a large range of lower values below the average SCF% After, helping us visualize their scoring struggles."
   ]
  },
  {
   "cell_type": "code",
   "execution_count": 39,
   "metadata": {},
   "outputs": [
    {
     "data": {
      "text/plain": [
       "<AxesSubplot:>"
      ]
     },
     "execution_count": 39,
     "metadata": {},
     "output_type": "execute_result"
    },
    {
     "data": {
      "image/png": "[encoded data removed]",
      "text/plain": [
       "<Figure size 432x288 with 1 Axes>"
      ]
     },
     "metadata": {
      "needs_background": "light"
     },
     "output_type": "display_data"
    }
   ],
   "source": [
    "SabresBandA.boxplot(['SCF% Before','SCF% After'])"
   ]
  },
  {
   "cell_type": "code",
   "execution_count": 92,
   "metadata": {},
   "outputs": [
    {
     "data": {
      "text/plain": [
       "<seaborn.axisgrid.JointGrid at 0x13f5c1a90>"
      ]
     },
     "execution_count": 92,
     "metadata": {},
     "output_type": "execute_result"
    },
    {
     "data": {
      "image/png": "[encoded data removed]",
      "text/plain": [
       "<Figure size 432x432 with 3 Axes>"
      ]
     },
     "metadata": {
      "needs_background": "light"
     },
     "output_type": "display_data"
    }
   ],
   "source": [
    "sns.jointplot(data=FinalCovidDataFrame, x=\"Sabres SCF% Before\", y=\"Sabres SCF% After\", kind=\"reg\")\n"
   ]
  },
  {
   "cell_type": "markdown",
   "metadata": {},
   "source": [
    "#### SH% (Shooting Percentage):\n",
    "SH% (shooting percentage) allows us to measure if a team's shots on goal results in goals and determines if a team is scoring. The Sabres SH% dropped massively as expected from the previous two statistics of CF% and SCF%. The SH% dropped from a decent value of 6.8% to 3.3% (3.5% decrease). This just goes to help support how much this team struggled after their outbreak. It represents how many of their shots are registering into goals, and the main problem is that their total scoring chances have already decreased, resulting in less opportunities to score. This visual backs up my research question on the how much the Sabres struggled."
   ]
  },
  {
   "cell_type": "code",
   "execution_count": 40,
   "metadata": {},
   "outputs": [
    {
     "data": {
      "text/plain": [
       "<AxesSubplot:>"
      ]
     },
     "execution_count": 40,
     "metadata": {},
     "output_type": "execute_result"
    },
    {
     "data": {
      "image/png": "[encoded data removed]",
      "text/plain": [
       "<Figure size 432x288 with 1 Axes>"
      ]
     },
     "metadata": {
      "needs_background": "light"
     },
     "output_type": "display_data"
    }
   ],
   "source": [
    "SabresBandA.boxplot(['SH% Before','SH% After'])"
   ]
  },
  {
   "cell_type": "code",
   "execution_count": 95,
   "metadata": {},
   "outputs": [
    {
     "data": {
      "text/plain": [
       "<seaborn.axisgrid.JointGrid at 0x13fe7a940>"
      ]
     },
     "execution_count": 95,
     "metadata": {},
     "output_type": "execute_result"
    },
    {
     "data": {
      "image/png": "[encoded data removed]",
      "text/plain": [
       "<Figure size 432x432 with 3 Axes>"
      ]
     },
     "metadata": {
      "needs_background": "light"
     },
     "output_type": "display_data"
    }
   ],
   "source": [
    "sns.jointplot(\n",
    "    data=FinalCovidDataFrame, x=\"Sabres SH% Before\", y=\"Sabres SH% After\",\n",
    "    marker=\"+\", s=100, marginal_kws=dict(bins=25, fill=False),\n",
    ")"
   ]
  },
  {
   "cell_type": "markdown",
   "metadata": {},
   "source": [
    "#### SV% (Save Percentage):\n",
    "SV% (save percentage) helps determine the play in net by analyzing the number of shots on goal a goaltender can save. This statistic caught me off guard because the team is struggling to score with a loss in SH%, SCF% and less time with the puck analyzed in with the CF%.  Somehow the Sabres managed to increase their SV% after their outbreak from 90.7% before to 91.2% after the outbreak. This means the Sabres goaltending played quite well along with the team’s defensive structure. I was not expecting this considering the trend in decreases seen above in the other statistics showing their struggles to contain the puck and score. The Sabres don’t have a strong goaltending core to start with. This must mean the break either helped the goalies, or the team played a strong defensive structured game in front of the goaltenders along with some good play from the goalies as well."
   ]
  },
  {
   "cell_type": "code",
   "execution_count": 41,
   "metadata": {},
   "outputs": [
    {
     "data": {
      "text/plain": [
       "<AxesSubplot:>"
      ]
     },
     "execution_count": 41,
     "metadata": {},
     "output_type": "execute_result"
    },
    {
     "data": {
      "image/png": "[encoded data removed]",
      "text/plain": [
       "<Figure size 432x288 with 1 Axes>"
      ]
     },
     "metadata": {
      "needs_background": "light"
     },
     "output_type": "display_data"
    }
   ],
   "source": [
    "SabresBandA.boxplot(['SV% Before','SV% After'])"
   ]
  },
  {
   "cell_type": "code",
   "execution_count": 90,
   "metadata": {},
   "outputs": [
    {
     "data": {
      "text/plain": [
       "<seaborn.axisgrid.JointGrid at 0x13f45c7f0>"
      ]
     },
     "execution_count": 90,
     "metadata": {},
     "output_type": "execute_result"
    },
    {
     "data": {
      "image/png": "[encoded data removed]",
      "text/plain": [
       "<Figure size 432x432 with 3 Axes>"
      ]
     },
     "metadata": {
      "needs_background": "light"
     },
     "output_type": "display_data"
    }
   ],
   "source": [
    "g = sns.jointplot(data=FinalCovidDataFrame, x=\"Sabres SV% Before\", y=\"Sabres SV% After\")\n",
    "g.plot_joint(sns.kdeplot, color=\"r\", zorder=0, levels=6)\n",
    "g.plot_marginals(sns.rugplot, color=\"r\", height=-.15, clip_on=False)"
   ]
  },
  {
   "cell_type": "markdown",
   "metadata": {},
   "source": [
    "#### PDO:\n",
    "PDO is the sum of a team's shooting percentage and its save percentage. The sum is then multiplied by ten and that total is the teams PDO. PDO is often viewed as a proxy for how lucky a team is. A PDO over 102 is “probably not as good as they seem”, while a team below 98 is likely better than they appear. The Sabres PDO is 0.98 before the outbreak and 0.95 after the outbreak. They saw a (0.3 drop in PDO before to after). By the rules of PDO, the Sabres are likely better than they appear. This is hard to visualize as they seemed to have struggles containing puck possession and having a decrease in scoring changes and shooting percentage. But the team’s overall defensive structure  and great goaltending resulting in an increase in SV% is the only thing that is helping them seem better than they appear. The Sabres only won 5 games in their 10 games before their outbreaks compared to the 3 games they won in their 10 games after the outbreak. This means that the Sabres were a bit more lucky in their 10 games before the outbreak rather than the 10 games after. The teams overall play decreased on the offensive side of the puck and increased on the defensive side of the puck after the outbreak. The Sabres seemed to be in a lot of more high scoring games before the outbreak which only supports this analysis of increased defensive play."
   ]
  },
  {
   "cell_type": "code",
   "execution_count": 42,
   "metadata": {},
   "outputs": [
    {
     "data": {
      "text/plain": [
       "<AxesSubplot:>"
      ]
     },
     "execution_count": 42,
     "metadata": {},
     "output_type": "execute_result"
    },
    {
     "data": {
      "image/png": "[encoded data removed]",
      "text/plain": [
       "<Figure size 432x288 with 1 Axes>"
      ]
     },
     "metadata": {
      "needs_background": "light"
     },
     "output_type": "display_data"
    }
   ],
   "source": [
    "SabresBandA.boxplot(['PDO Before','PDO After'])"
   ]
  },
  {
   "cell_type": "code",
   "execution_count": 87,
   "metadata": {},
   "outputs": [
    {
     "data": {
      "text/plain": [
       "<seaborn.axisgrid.JointGrid at 0x13ee5e310>"
      ]
     },
     "execution_count": 87,
     "metadata": {},
     "output_type": "execute_result"
    },
    {
     "data": {
      "image/png": "[encoded data removed]",
      "text/plain": [
       "<Figure size 432x432 with 3 Axes>"
      ]
     },
     "metadata": {
      "needs_background": "light"
     },
     "output_type": "display_data"
    }
   ],
   "source": [
    "sns.jointplot(data=FinalCovidDataFrame, x='Sabres PDO Before', y='Sabres PDO After', kind='kde')"
   ]
  },
  {
   "cell_type": "markdown",
   "metadata": {},
   "source": [
    "## Overall Analysis:\n",
    "Diving in deeper to these two teams has shown me a lot on how cool statistics are in hockey and that they actual do work! The Vancouver Canucks were interesting because they saw an increase in a lot of statistics such as CF% and SH% were the Sabres did not. The PDO was a great addition for a statistic as it shows the reader if this team is getting lucky and if they aren’t. I chose these two teams specifically because the Vancouver Canucks were in a division that contained more teams of their skill level where as the Sabres are looked at more as a team trying to exit a rebuild stage and become a team that can start making playoffs. I was mostly surprised about my findings with the Sabres. I knew they would experience a decrease in offensive play, but was not expecting to find an increase in goaltending and defensive play. I will have to do more digging into that because I was not expecting that. The box plots really helped visualize the before and after play side by side to help the reader really understand how drastic of a change occurred from Covid-19 outbreaks. This analysis taught me a great deal and I can’t wait to create a beautiful looking bar chart for a better visualization."
   ]
  },
  {
   "cell_type": "code",
   "execution_count": 52,
   "metadata": {},
   "outputs": [],
   "source": [
    "# csv file for FinalCovidDataFrame\n",
    "FinalCovidDataFrame.to_csv(\"FinalCovidDataFrame.csv\", index=False)"
   ]
  },
  {
   "cell_type": "code",
   "execution_count": 53,
   "metadata": {},
   "outputs": [],
   "source": [
    "# csv file for CanucksBandA\n",
    "CanucksBandA.to_csv(\"CanucksBeforeAndAfterWithGameScores\", index=False)"
   ]
  },
  {
   "cell_type": "code",
   "execution_count": 54,
   "metadata": {},
   "outputs": [],
   "source": [
    "# csv file for SabresBandA\n",
    "SabresBandA.to_csv(\"SabresBeforeAndAfterWithGameScores\", index=False)"
   ]
  },
  {
   "cell_type": "code",
   "execution_count": 51,
   "metadata": {},
   "outputs": [],
   "source": [
    "# csv file for FCBandA1\n",
    "FCBandA1.to_csv(\"FinalCanucksBandA\", index=False)"
   ]
  },
  {
   "cell_type": "code",
   "execution_count": 52,
   "metadata": {},
   "outputs": [],
   "source": [
    "# csv file for FSBandA1\n",
    "FSBandA1.to_csv(\"FinalSabresBandA\", index=False)"
   ]
  },
  {
   "cell_type": "code",
   "execution_count": null,
   "metadata": {},
   "outputs": [],
   "source": []
  }
 ],
 "metadata": {
  "kernelspec": {
   "display_name": "Python 3 (ipykernel)",
   "language": "python",
   "name": "python3"
  },
  "language_info": {
   "codemirror_mode": {
    "name": "ipython",
    "version": 3
   },
   "file_extension": ".py",
   "mimetype": "text/x-python",
   "name": "python",
   "nbconvert_exporter": "python",
   "pygments_lexer": "ipython3",
   "version": "3.9.7"
  }
 },
 "nbformat": 4,
 "nbformat_minor": 4
}
